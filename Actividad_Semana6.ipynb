{
 "cells": [
  {
   "cell_type": "markdown",
   "id": "49909eb6",
   "metadata": {},
   "source": [
    "# Actividades Capítulo 6.\n",
    "\n",
    "\n",
    "# Algoritmos de clasificación.\n",
    "\n",
    "## Resumen de actividades\n",
    "\n",
    "- **Unidad 30.** Enfoque Greedy algoritmos voraces o ávidos.\n",
    "- **Unidad 31.** Divide y vencerás\n",
    "- **Unidad 32.** Programación dinámica\n",
    "- **Unidad 33.** Retroceso\n"
   ]
  },
  {
   "cell_type": "markdown",
   "id": "780f0fff",
   "metadata": {},
   "source": [
    "# Actividad: Algoritmos Greedy.\n",
    "\n",
    "\n",
    "## Instrucciones\n",
    "\n",
    "1. Explique brevemente y en forma clara qué es un algoritmo Greedy y como funciona..\n",
    "\n",
    "2. Enumera algunas ventajas.\n",
    "\n",
    "3. Enumera algunas desventajas.\n",
    "\n",
    "4. Escriba el código desarrollado con el enfoque Greeddy para el problema de cambio de monedas, haga diferentes pruebas cambian las entradas (recuerde que las entrada de este algoritmo son las monedas disponibles y la cantida que se desea cubrir, con estas entradas el algoritmo debe retornar la combinación de monedas que cubre el monto solicitado, minimizando la cantidad de monedas usadas)\n",
    "\n",
    "5. Ahora pruebe los resultados con siguientes entradas: monedas_disponibles = [11, 5, 1] para cubrer la cantidad de 15, observe los resultados, haga algunas analísis de lo que pasaria con esta combinación de entradas.\n"
   ]
  },
  {
   "cell_type": "code",
   "execution_count": 15,
   "id": "21a779a5",
   "metadata": {},
   "outputs": [
    {
     "name": "stdout",
     "output_type": "stream",
     "text": [
      "Monedas utilizadas: [500, 100, 100, 100]\n",
      "Cantidad total de monedas: 4\n"
     ]
    }
   ],
   "source": [
    "# 1: Un algoritmo voraz toma la mejor decisión local en cada paso con la esperanza de llegar a una solución global óptima.\n",
    "\n",
    "#2: Simples y fáciles de implementar.\n",
    "# Rápidos y eficientes para muchos problemas.\n",
    "\n",
    "# 3: No siempre encuentran la solución óptima global.\n",
    "#Pueden ser \"miopes\" y no considerar el impacto a largo plazo de sus decisiones.\n",
    "\n",
    "\n",
    "\n",
    "def x(monedas_disponibles, cantidad):\n",
    "    monedas_utilizadas = []\n",
    "    monedas_disponibles.sort(reverse=True)\n",
    "\n",
    "    for moneda in monedas_disponibles:\n",
    "        while cantidad >= moneda:\n",
    "            monedas_utilizadas.append(moneda)\n",
    "            cantidad -= moneda\n",
    "\n",
    "    print(\"Monedas utilizadas:\", monedas_utilizadas)\n",
    "    print(\"Cantidad total de monedas:\", len(monedas_utilizadas))\n",
    "\n",
    "\n",
    "monedas_disponibles = [11, 5, 1, 25, 100]\n",
    "cantidad = 12\n",
    "x(monedas_disponibles, cantidad)\n"
   ]
  },
  {
   "cell_type": "markdown",
   "id": "89395b47",
   "metadata": {},
   "source": [
    "# Actividad: Replique el código de la búsqueda de la trayectoria triangular mínima.\n",
    "\n",
    "\n",
    "## Instrucciones\n",
    "\n",
    "\n",
    "1. Replique el código mostrado en la unidad 31.\n",
    "\n",
    "2. Analice el código replicado y agregue una explicíon sonbre su funcionamiento.\n",
    "\n",
    "3. Haga diferentes pruebas cambiando la entrada.\n"
   ]
  },
  {
   "cell_type": "code",
   "execution_count": 3,
   "id": "d446e273",
   "metadata": {},
   "outputs": [
    {
     "name": "stdout",
     "output_type": "stream",
     "text": [
      "El resultado de la suma mínima del camino en el triángulo es: 11\n"
     ]
    }
   ],
   "source": [
    "def find_minimun(row, col, triangle):\n",
    "    # Este es el caso base, si la fila actual es la última, devuelve 0\n",
    "    if row == len(triangle):\n",
    "        return 0\n",
    "    else:\n",
    "        # Hace llamada recursiva para la suma mínima\n",
    "        minimum = min(find_minimun(row+1, col, triangle),\n",
    "                      find_minimun(row+1, col+1, triangle))\n",
    "        # Aquí se devuelve la suma mínima\n",
    "    return triangle[row][col] + minimum\n",
    "\n",
    "# Triángulo de ejemplo\n",
    "triangle = [\n",
    "    [2],\n",
    "    [3, 4],\n",
    "    [6, 5, 7],\n",
    "    [4, 1, 8, 3]\n",
    "]\n",
    "\n",
    "# Prueba con el triángulo de ejemplo\n",
    "resultado = find_minimun(0, 0, triangle)\n",
    "print(\"El resultado de la suma mínima del camino en el triángulo es:\", resultado)\n"
   ]
  },
  {
   "cell_type": "markdown",
   "id": "881569fc",
   "metadata": {},
   "source": [
    "# Actividad: Búsqueda binaria con iteración.\n",
    "\n",
    "\n",
    "## Instrucciones\n",
    "\n",
    "\n",
    "1. Replique el código mostrado en la unidad 31.\n",
    "\n",
    "2. Analice el código replicado y agregue una explicíon sonbre su funcionamiento.\n",
    "\n",
    "3. Explique por qué es necesario usar usar una función recursiva.\n",
    "\n",
    "4. Haga diferentes pruebas cambiando la entrada.\n"
   ]
  },
  {
   "cell_type": "code",
   "execution_count": 14,
   "id": "0b1f525d",
   "metadata": {},
   "outputs": [
    {
     "name": "stdout",
     "output_type": "stream",
     "text": [
      "El numero 1 se encuentra en la posición 2.\n"
     ]
    }
   ],
   "source": [
    "# Espacio para desarrollar el código y agregar los comentarios necesarios.\n",
    "\n",
    "def bin_search2(nums, x, low, high):\n",
    "    if low > high:\n",
    "        return -1\n",
    "    else:\n",
    "        mid = (low + high) // 2\n",
    "        if nums[mid] == x:\n",
    "            return mid\n",
    "        elif nums[mid] > x:\n",
    "            return bin_search2(nums, x, low, mid - 1)\n",
    "        else:\n",
    "            return bin_search2(nums, x, mid + 1, high)\n",
    "\n",
    "nums = [50, 13,1, 3, 5, 7, 9, 11, 13, 15, 17, 19]\n",
    "x = 1\n",
    "\n",
    "result = bin_search2(nums, x, 0, len(nums) - 1)\n",
    "\n",
    "if result != -2:\n",
    "    print(f\"El numero {x} se encuentra en la posición {result}.\")\n",
    "else:\n",
    "    print(f\"El numero {x} no se encuentra en la lista.\")\n"
   ]
  },
  {
   "cell_type": "markdown",
   "id": "1087c522",
   "metadata": {},
   "source": [
    "# Actividad: Comparación entre programación dinámica y la metodología divide y venceras.\n",
    "\n",
    "\n",
    "## Instrucciones\n",
    "\n",
    "\n",
    "1. Enumera las diferencias entre los dos efoques.\n",
    "\n",
    "2. Nombre algunos casos donde funcionam mejor la programación dinámica.\n",
    "\n",
    "3. Nombre ejemplos donde es suficiente usar el enfoque divide y venceras.\n",
    "\n",
    "\n",
    "\n",
    "**Espación para desarrollar la actividad:**\n",
    "\n",
    "\n",
    "\n",
    "\n",
    "\n",
    "\n",
    "\n",
    "\n",
    "\n",
    "\n"
   ]
  },
  {
   "cell_type": "markdown",
   "id": "70663cf6",
   "metadata": {},
   "source": [
    "1. Diferencias entre los dos enfoques:\n",
    "   - **Divide y vencerás** divide el problema en subproblemas más pequeños, resuelve los subproblemas de manera independiente y combina las soluciones para obtener la solución final. En cambio, la **programación dinámica** almacena y reutiliza las soluciones a subproblemas ya resueltos para evitar recalcularlos.\n",
    "\n",
    "2. Casos donde funciona mejor la programación dinámica:\n",
    "   - **Fibonacci** (cálculo eficiente de números de Fibonacci).\n",
    "   - **Problemas de optimización** como la **mochila (knapsack)** y **rutas más cortas** en grafos.\n",
    "\n",
    "3. Ejemplos donde es suficiente usar el enfoque divide y vencerás:\n",
    "   - **Búsqueda binaria**.\n",
    "   - **Ordenamiento rápido (quicksort)**.\n",
    "   - **Multiplicación de matrices** mediante el algoritmo de Strassen."
   ]
  }
 ],
 "metadata": {
  "kernelspec": {
   "display_name": "Python 3 (ipykernel)",
   "language": "python",
   "name": "python3"
  },
  "language_info": {
   "codemirror_mode": {
    "name": "ipython",
    "version": 3
   },
   "file_extension": ".py",
   "mimetype": "text/x-python",
   "name": "python",
   "nbconvert_exporter": "python",
   "pygments_lexer": "ipython3",
   "version": "3.9.12"
  }
 },
 "nbformat": 4,
 "nbformat_minor": 5
}
