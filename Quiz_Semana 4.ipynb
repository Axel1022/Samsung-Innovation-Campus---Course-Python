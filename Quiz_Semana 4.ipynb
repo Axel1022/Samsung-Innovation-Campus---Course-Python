{
 "cells": [
  {
   "cell_type": "markdown",
   "id": "5d671b98",
   "metadata": {},
   "source": [
    "# Coding and Programming\n",
    "\n",
    "## Capítulo 4\n",
    "\n",
    "### Estructuras de Datos\n",
    "\n",
    "- **Unidad 17.** Pila\n",
    "- **Unidad 18.** Cola\n",
    "- **Unidad 19.** Búsqueda Binaria\n",
    "- **Unidad 20.** Tabla Hash\n",
    "\n",
    "# Quiz 4"
   ]
  },
  {
   "cell_type": "markdown",
   "id": "2e42031a",
   "metadata": {},
   "source": [
    "___"
   ]
  },
  {
   "cell_type": "markdown",
   "id": "33866775",
   "metadata": {},
   "source": [
    "## Q 22-01\n",
    "\n",
    "La siguiente es la implantación de una pila. ¿Cuál será el resultado del siguiente código?\n",
    "\n",
    "```\n",
    "stack = Stack()\n",
    "stack.push(\"Banana\")\n",
    "stack.push(\"Apple\")\n",
    "stack.push(\"Tomato\")\n",
    "stack.pop()\n",
    "stack.push(\"Strawberry\")\n",
    "stack.push(\"Grapes\")\n",
    "stack.pop()\n",
    "print(stack.stack)\n",
    "```\n",
    "\n",
    "**Respuesta:**"
   ]
  },
  {
   "cell_type": "markdown",
   "id": "81816b7e",
   "metadata": {},
   "source": [
    "# La pila quedaria de la siguiente manera:\n",
    "\n",
    "**Banana**\n",
    "\n",
    "**Apple**\n",
    "\n",
    "Tomato      #Eliminado\n",
    "\n",
    "**Strawberry**\n",
    "\n",
    "Grapes      #Eliminado\n",
    "\n",
    "# Salida:\n",
    "**Banana , Apple , Strawberry**\n"
   ]
  },
  {
   "cell_type": "markdown",
   "id": "2dbba0e2",
   "metadata": {},
   "source": [
    "___"
   ]
  },
  {
   "cell_type": "markdown",
   "id": "8d8ca892",
   "metadata": {},
   "source": [
    "## Q 22-02\n",
    "\n",
    "La siguiente es la implantación de una pila. ¿Cuál será el resultado del siguiente código?\n",
    "\n",
    "```\n",
    "stack = Stack()\n",
    "items = [10 * i for i in range(1,10)]\n",
    "for item in items:\n",
    "    stack.push(item)\n",
    "    if (item // 10) % 2 == 0:\n",
    "        stack.pop()\n",
    "print(stack.stack)\n",
    "```\n",
    "\n",
    "**Respuesta:**"
   ]
  },
  {
   "cell_type": "markdown",
   "id": "6cae5645",
   "metadata": {},
   "source": [
    "Por motivos que de no actualizamos los valores al momento de verifivar si x modulo de 2 ==0...\n",
    "\n",
    "# Salida:\n",
    "\n",
    "10, 30, 50, 70, 90"
   ]
  },
  {
   "cell_type": "markdown",
   "id": "9c101740",
   "metadata": {},
   "source": [
    "___"
   ]
  },
  {
   "cell_type": "markdown",
   "id": "490f04a8",
   "metadata": {},
   "source": [
    "## Q 23-01\n",
    "\n",
    "La siguiente es la implantación de una pila. ¿Cuál será el resultado del siguiente código?\n",
    "\n",
    "```\n",
    "queue = Queue()\n",
    "queue.enqueue(\"Banana\")\n",
    "queue.enqueue(\"Apple\")\n",
    "queue.enqueue(\"Tomato\")\n",
    "queue.dequeue()\n",
    "queue.enqueue(\"Strawberry\")\n",
    "queue.enqueue(\"Grapes\")\n",
    "queue.dequeue()\n",
    "print(queue.queue)\n",
    "```\n",
    "\n",
    "**Respuesta:**"
   ]
  },
  {
   "cell_type": "markdown",
   "id": "f4b7a1b4",
   "metadata": {},
   "source": [
    "# La pila quedaria de la siguiente manera:\n",
    "\n",
    "**Banana**\n",
    "\n",
    "**Apple**\n",
    "\n",
    "Tomato      #Eliminado\n",
    "\n",
    "**Strawberry**\n",
    "\n",
    "Grapes      #Eliminado\n",
    "\n",
    "# Salida:\n",
    "**Banana , Apple , Strawberry**"
   ]
  },
  {
   "cell_type": "markdown",
   "id": "4811d8fa",
   "metadata": {},
   "source": [
    "___"
   ]
  },
  {
   "cell_type": "markdown",
   "id": "680514b8",
   "metadata": {},
   "source": [
    "## Q 23-02\n",
    "\n",
    "La siguiente es la implantación de una cola. ¿Cuál será el resultado del siguiente código?\n",
    "\n",
    "```\n",
    "queue = Queue()\n",
    "items = [10 * i for i in range(1,10)]\n",
    "for item in items:\n",
    "    queue.enqueue(item)\n",
    "    if (item // 10) % 2 == 0:\n",
    "        queue.dequeue()\n",
    "print(queue.queue)\n",
    "```\n",
    "\n",
    "**Respuesta:**"
   ]
  },
  {
   "cell_type": "markdown",
   "id": "d1399404",
   "metadata": {},
   "source": [
    "Por motivos que de no actualizamos los valores al momento de verifivar si x modulo de 2 ==0...\n",
    "\n",
    "# Salida:\n",
    "\n",
    "10, 30, 50, 70, 90"
   ]
  },
  {
   "cell_type": "markdown",
   "id": "b16e0741",
   "metadata": {},
   "source": [
    "___"
   ]
  },
  {
   "cell_type": "markdown",
   "id": "5f2fe9e8",
   "metadata": {},
   "source": [
    "## Q 24-01\n",
    "\n",
    "¿Cuál es el algoritmo de la siguiente función `find_two()`?\n",
    "```\n",
    "def find_two():\n",
    "    x = y = 0\n",
    "    for i in range(1, len(nums)):\n",
    "        if nums[x] < nums[i]:\n",
    "            x = i\n",
    "        elif nums[y] > nums[i]:\n",
    "            y = i\n",
    "    return x,y\n",
    "\n",
    "nums = [11, 37, 45, 26, 59, 28, 17, 53]\n",
    "i,j = find_two(nums)\n",
    "print(nums[i], nums[j])\n",
    "```\n",
    "Analice el código y escriba el resultado de la ejecución."
   ]
  },
  {
   "cell_type": "markdown",
   "id": "0407f911",
   "metadata": {},
   "source": [
    "# Busca el menor y mayor\n",
    "Pero... \n",
    "\n",
    "Arreglando el error del argumento que no esta colocado en la funcion...\n",
    "\n",
    "**Salida:**\n",
    "59 y 11\n"
   ]
  },
  {
   "cell_type": "markdown",
   "id": "bba31171",
   "metadata": {},
   "source": [
    "___"
   ]
  },
  {
   "cell_type": "markdown",
   "id": "36e47747",
   "metadata": {},
   "source": [
    "## Q 24-02\n",
    "\n",
    "¿Cuántas comparaciones debe realizar la función `find_two()` implementada en la pregunta anterior (24-01)?"
   ]
  },
  {
   "cell_type": "markdown",
   "id": "560f7505",
   "metadata": {},
   "source": [
    "**7 comparaciones**"
   ]
  },
  {
   "cell_type": "markdown",
   "id": "976b7b8e",
   "metadata": {},
   "source": [
    "___"
   ]
  },
  {
   "cell_type": "markdown",
   "id": "9fffd532",
   "metadata": {},
   "source": [
    "## Q 25-01\n",
    "\n",
    "El siguiente es el código para el juego de combinación de números.\n",
    "\n",
    "Si el máximo es 100 y el número es 51, ¿cuál es la salida de `count`?\n",
    "```\n",
    "from random import randint\n",
    "\n",
    "maximo = int(input(\"Ingrese el número maximo: \"))\n",
    "numero = int(input(\"Ingrese tu intento de adivinar el numero: \"))\n",
    "low, high = 1, maximo\n",
    "count = 0\n",
    "while low < high:\n",
    "    count += 1\n",
    "    mid = (low + high) // 2\n",
    "    if mid == numero:\n",
    "        print(f\"El número es {numero}\")\n",
    "        break\n",
    "    elif mid > numero:\n",
    "        high = mid - 1\n",
    "    else:\n",
    "        low  = mid + 1\n",
    "\n",
    "print(f\"Total {count} veces fue buscado.\")\n",
    "```"
   ]
  },
  {
   "cell_type": "markdown",
   "id": "2a351b8a",
   "metadata": {},
   "source": [
    "**6 veces**"
   ]
  },
  {
   "cell_type": "markdown",
   "id": "c29e1c0c",
   "metadata": {},
   "source": [
    "___"
   ]
  },
  {
   "cell_type": "markdown",
   "id": "c185d96c",
   "metadata": {},
   "source": [
    "## Q 25-02\n",
    "\n",
    "En el código del juego de combinación de números, si el máximo es 100 y el número es 25, ¿cuál es el resultado del conteo?"
   ]
  },
  {
   "cell_type": "markdown",
   "id": "27353ddf",
   "metadata": {},
   "source": [
    "**2 veces**"
   ]
  },
  {
   "cell_type": "markdown",
   "id": "662d5bfd",
   "metadata": {},
   "source": [
    "___"
   ]
  },
  {
   "cell_type": "markdown",
   "id": "eb266a1e",
   "metadata": {},
   "source": [
    "## Q 26-01\n",
    "\n",
    "Usando la función hash de la clase HashTable, calcule la clave y la clave hash de \"Alicia en el país de las maravillas\" de la siguiente manera. (El valor clave es 1763.)\n",
    "```\n",
    "table = HashTable(8)\n",
    "book  = \"Alice in Wonderland\"\n",
    "key = sum(map(ord, book))\n",
    "print(key, table.hash(key))\n",
    "```"
   ]
  },
  {
   "cell_type": "markdown",
   "id": "4ed48ef3",
   "metadata": {},
   "source": [
    "Clave: 3341\n",
    "Clave hash: 5"
   ]
  },
  {
   "cell_type": "markdown",
   "id": "6ef27d31",
   "metadata": {},
   "source": [
    "___"
   ]
  },
  {
   "cell_type": "markdown",
   "id": "d4fd6f63",
   "metadata": {},
   "source": [
    "## Q 26-02\n",
    "\n",
    "Si la nueva estantería tiene 10 compartimentos, usa el siguiente código para averiguar qué libro hay en cada compartimento.\n",
    "```\n",
    "table = HashTable(10)\n",
    "books = [\n",
    "    \"The Little Prince\",\n",
    "    \"The Old Man and the Sea\",\n",
    "    \"The Little Memaid\",\n",
    "    \"Beauty and the Beast\",\n",
    "    \"The Last Leaf\",\n",
    "    \"Alice in Wonderland\",\n",
    "]\n",
    "\n",
    "for book in books:\n",
    "    key = sum(map(ord, book))\n",
    "    table.put(key, book)\n",
    "\n",
    "for key in table.table.key():\n",
    "    print(key, table.table[key])\n",
    "```"
   ]
  },
  {
   "cell_type": "markdown",
   "id": "f549a890",
   "metadata": {},
   "source": [
    "Compartimento 0:\n",
    "1093 The Little Mermaid\n",
    "Compartimento 1:\n",
    "1348 The Last Leaf\n",
    "Compartimento 2:\n",
    "884 The Old Man and the Sea\n",
    "Compartimento 3:\n",
    "1312 The Little Prince\n",
    "Compartimento 6:\n",
    "962 Beauty and the Beast\n",
    "Compartimento 7:\n",
    "1126 Alice in Wonderland"
   ]
  },
  {
   "cell_type": "markdown",
   "id": "574b1c0f",
   "metadata": {},
   "source": [
    "___"
   ]
  },
  {
   "cell_type": "markdown",
   "id": "7f165fb5",
   "metadata": {},
   "source": [
    "# Fin"
   ]
  }
 ],
 "metadata": {
  "kernelspec": {
   "display_name": "Python 3 (ipykernel)",
   "language": "python",
   "name": "python3"
  },
  "language_info": {
   "codemirror_mode": {
    "name": "ipython",
    "version": 3
   },
   "file_extension": ".py",
   "mimetype": "text/x-python",
   "name": "python",
   "nbconvert_exporter": "python",
   "pygments_lexer": "ipython3",
   "version": "3.9.12"
  }
 },
 "nbformat": 4,
 "nbformat_minor": 5
}
