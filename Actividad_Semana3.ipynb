{
 "cells": [
  {
   "cell_type": "markdown",
   "id": "5ad8356f",
   "metadata": {},
   "source": [
    "# Actividades Capítulo 3.\n",
    "\n",
    "\n",
    "# Concepto básico de programación e inicio en Python\n",
    "\n",
    "## Resumen de actividades\n",
    "\n",
    "\n",
    "- **Unidad 17.** Función\n",
    "- **Unidad 18.** Llamada a la función de recurrencia.\n",
    "- **Unidad 19.** Lambda\n",
    "- **Unidad 20.** Clausura\n",
    "- **Unidad 21.** Clase\n"
   ]
  },
  {
   "cell_type": "markdown",
   "id": "8c5aa9c8",
   "metadata": {},
   "source": [
    "# Actividad: Creacion de funciones.\n",
    "\n",
    "\n",
    "## Instrucciones\n",
    "\n",
    "1. Defina en forma breve el concepto de función.\n",
    "\n",
    "2. Crear una función para realizar la suma de los números impares en el rango de 0 a 100, dentro de la función imprima los valores sumados y al final retorne el resultado de la sumatoria.\n"
   ]
  },
  {
   "cell_type": "code",
   "execution_count": null,
   "id": "90cd2e33",
   "metadata": {},
   "outputs": [],
   "source": [
    "# Espacio para desarrollar el código requerido, recuerde agregar algunos\n",
    "# comentarios breves sobre su funcionamiento.\n",
    "\n",
    "# Definicion:\n",
    "\n",
    "# Es un bloque de código que realiza alguna operación.\n",
    "\n",
    "# Punto 2:\n",
    "\n",
    "def sumatoaria():\n",
    "    lista = []\n",
    "    for num in range(0,100):\n",
    "        if num % 2 == 0:\n",
    "            lista.append(num)\n",
    "    return(sum(lista))\n",
    "print(f\"La sumatoria es {sumatoaria()}\")"
   ]
  },
  {
   "cell_type": "markdown",
   "id": "a11871f3",
   "metadata": {},
   "source": [
    "# Actividad: Diseñe una función para codificar strings y otra para decodificar strings.\n",
    "\n",
    "1. Revise documentación relacionada a los procesos de encriptación, explique brevemente como funcionan.\n",
    "2. Ambas funciones deben tener como entrada un string y una ¨Clave\", la ¨Clave¨ será usada para codificar y decodificar.\n",
    "3. El desarrollo de está actividad esta abierto a multiples soluciones, por favor sea original en su respuesta.\n"
   ]
  },
  {
   "cell_type": "code",
   "execution_count": null,
   "id": "1e7a5371",
   "metadata": {},
   "outputs": [],
   "source": [
    "# Espacio para desarrollar la actividad, si tienes alguna duda o comentario adicional\n",
    "# lo puedes dejar planteado acá.\n",
    "import string\n",
    "\n",
    "abc = string.ascii_lowercase\n",
    "def codificar (texto , clave = 3):\n",
    "    cifrado = []\n",
    "    posicion : int = 0\n",
    "    for char in  texto.lower():\n",
    "        posicion = abc.index(char) + clave\n",
    "\n",
    "        if(posicion > len(abc)):\n",
    "            posicion = 0\n",
    "        cifrado.append(abc[posicion])\n",
    "    return cifrado\n",
    "\n",
    "def decodificar (texto , clave = 3):\n",
    "    cifrado = []\n",
    "    posicion : int = 0\n",
    "    for char in  texto.lower():\n",
    "        posicion = abc.index(char) - clave\n",
    "\n",
    "        if(posicion > len(abc)):\n",
    "            posicion = 0\n",
    "        cifrado.append(abc[posicion])\n",
    "    return cifrado\n",
    "\n",
    "texto =  input(\"\"\" Ingrese texto a cifrar\n",
    "               >>> \"\"\")\n",
    "clave =  int(input(\"\"\" Ingrese el desplazamiento\n",
    "               >>> \"\"\"))\n",
    "texto_cifrado = ''.join(codificar(texto, clave))\n",
    "\n",
    "print(texto_cifrado)\n",
    "texto_decifrado= \"\"\n",
    "texto_decifrado =''.join(decodificar(texto_cifrado, clave))\n",
    "print(f\"\"\"\n",
    "      Palabra plana: {texto}\n",
    "      Palabra cifrada: {texto_cifrado}\n",
    "      Palabra decifrada: {texto_decifrado.title()}\"\"\")"
   ]
  },
  {
   "cell_type": "markdown",
   "id": "a207d974",
   "metadata": {},
   "source": [
    "\n",
    "# Actividad: Diseñe y codifique una función.\n",
    "\n",
    "1. Diseñe una función que revise el contenido de una carpeta, la mision de esta funcion es revisar todas las carpetas existentes y obtener los nommbres de los archivos contenidos.\n",
    "2. Considere que dentro de cada carpete pueden existir otras carpetas.\n",
    "3. Todas las carpetas deben ser revisadas.\n",
    "4. Con la ejecucion de la siguiente celda se crearan las carpetas y los archivos.\n",
    "5. Es posible que debas considerar el uso de una función recursiva."
   ]
  },
  {
   "cell_type": "code",
   "execution_count": null,
   "id": "b4ac1d5a",
   "metadata": {},
   "outputs": [],
   "source": [
    "import os\n",
    "import random\n",
    "\n",
    "def guardar_archivo(text_content, file_path):\n",
    "    with open(file_path, 'w') as file:\n",
    "        # Write the text content to the file\n",
    "        file.write(text_content)\n",
    "\n",
    "\n",
    "if os.path.exists(\"Carpeta_principal\"):\n",
    "    os.system(f'rm -r \"Carpeta_principal\"')\n",
    "\n",
    "os.mkdir(\"Carpeta_principal\")\n",
    "# Inicialización\n",
    "\n",
    "def crear_carpetas(ruta_actual):\n",
    "    global numeracion_del_archivo, numero_de_sub_carpetas\n",
    "    numero_de_archivos_o_carpetas = random.randint(0,15) # genración de numero aleatorio entre 0 y 15.\n",
    "    print(ruta_actual)\n",
    "    if numero_de_sub_carpetas < max_carpetas:\n",
    "        for n in range(0, numero_de_archivos_o_carpetas):\n",
    "\n",
    "            numero_aleatorio_2 = random.randint(0,2) # número aleatoria entre 0 y 1.\n",
    "            if numero_aleatorio_2 == 0:\n",
    "                os.mkdir(ruta_actual +'/'+ 'folder_{}'.format(n) )\n",
    "                print(ruta_actual +'/'+ 'folder_{}'.format(n))\n",
    "            else:\n",
    "                contenido_del_archivo = \"Contenido_{}\".format(numeracion_del_archivo)\n",
    "                ruta_del_archivo = ruta_actual + '/' + \"archivo_{}.text\".format(numeracion_del_archivo)\n",
    "#                 print(\"ruta_del_archivo: \", ruta_del_archivo)\n",
    "                guardar_archivo(contenido_del_archivo, ruta_del_archivo)\n",
    "                numeracion_del_archivo += 1\n",
    "\n",
    "        lista_de_nuevas_carpetas = [f.path for f in os.scandir(ruta_actual) if f.is_dir()] # Busqueda de nueva carpeta\n",
    "\n",
    "        numero_de_sub_carpetas += 1\n",
    "        for carpeta in lista_de_nuevas_carpetas:\n",
    "            crear_carpetas(carpeta)\n",
    "\n",
    "max_carpetas = 4\n",
    "numeracion_del_archivo = 0\n",
    "numero_de_sub_carpetas = 0\n",
    "ruta_actuall = \"Carpeta_principal\"\n",
    "crear_carpetas(ruta_actuall)"
   ]
  },
  {
   "cell_type": "code",
   "execution_count": 15,
   "id": "a4f925a4",
   "metadata": {},
   "outputs": [
    {
     "ename": "NameError",
     "evalue": "name 'crear_carpetas' is not defined",
     "output_type": "error",
     "traceback": [
      "\u001b[1;31m---------------------------------------------------------------------------\u001b[0m",
      "\u001b[1;31mNameError\u001b[0m                                 Traceback (most recent call last)",
      "Input \u001b[1;32mIn [15]\u001b[0m, in \u001b[0;36m<cell line: 22>\u001b[1;34m()\u001b[0m\n\u001b[0;32m     20\u001b[0m \u001b[38;5;66;03m# Crear carpetas y archivos\u001b[39;00m\n\u001b[0;32m     21\u001b[0m ruta_inicial \u001b[38;5;241m=\u001b[39m \u001b[38;5;124m\"\u001b[39m\u001b[38;5;124mCarpeta_principal\u001b[39m\u001b[38;5;124m\"\u001b[39m\n\u001b[1;32m---> 22\u001b[0m \u001b[43mcrear_carpetas\u001b[49m(ruta_inicial)\n\u001b[0;32m     24\u001b[0m \u001b[38;5;66;03m# Obtener nombres de archivos\u001b[39;00m\n\u001b[0;32m     25\u001b[0m nombres_archivos_en_carpeta_principal \u001b[38;5;241m=\u001b[39m obtener_nombres_archivos(ruta_inicial)\n",
      "\u001b[1;31mNameError\u001b[0m: name 'crear_carpetas' is not defined"
     ]
    }
   ],
   "source": [
    "#Este ejercicio no logré hacerlo."
   ]
  },
  {
   "cell_type": "markdown",
   "id": "26a6bb9e",
   "metadata": {},
   "source": [
    "# Actividad: Crear diccionarios y guardarlos como archivo JSON.\n",
    "\n",
    "De la unidad 11 sección 4.6 revise el ejemplo mostrado.\n",
    "\n",
    "Genera un diccionario, sobre la información que deseas guardar como base de datos, desarrollo el código necesario para generar el archivo JSON, y también el código para cargar la información del archivo JSON.\n"
   ]
  },
  {
   "cell_type": "code",
   "execution_count": 6,
   "id": "6670eace",
   "metadata": {},
   "outputs": [
    {
     "name": "stdout",
     "output_type": "stream",
     "text": [
      "Los datos han sido guardados en datos_guardados.json en formato JSON.\n",
      "**************************************************\n",
      "Lectura: \n",
      "dict_values(['Alexander', 'Campusado', 21])\n"
     ]
    }
   ],
   "source": [
    "# Espacio para desarrollar el código siguiendo las instrucciones.\n",
    "\n",
    "import json\n",
    "\n",
    "datos = {\n",
    "    \"nombre\": \"Alexander\",\n",
    "    \"apellido\": \"Campusado\",\n",
    "    \"edad\": 21\n",
    "}\n",
    "\n",
    "nombre_archivo = \"datos_guardados.json\"\n",
    "\n",
    "with open(nombre_archivo, \"w\") as file:\n",
    "    json.dump(datos, file)\n",
    "\n",
    "print(f\"Los datos han sido guardados en {nombre_archivo} en formato JSON.\")\n",
    "\n",
    "print(\"*\"*50)\n",
    "\n",
    "print(\"Lectura: \")\n",
    "\n",
    "with open(nombre_archivo, \"r\") as file:\n",
    "    print(json.load(file).values())"
   ]
  },
  {
   "cell_type": "markdown",
   "id": "fbfb4985",
   "metadata": {},
   "source": [
    "# Actividad: Uso de la funcion Lambda.\n",
    "\n",
    "## Instrucciones\n",
    "\n",
    "1. Escriba una función regular donde se realice una operación.\n",
    "2. Escriba la misma función donde use la expresión lambda.\n",
    "3. Explica brevemente las ventajas de usar la función Lambda.\n"
   ]
  },
  {
   "cell_type": "code",
   "execution_count": 8,
   "id": "fc5b1a43",
   "metadata": {},
   "outputs": [
    {
     "name": "stdout",
     "output_type": "stream",
     "text": [
      "3\n"
     ]
    },
    {
     "data": {
      "text/plain": [
       "3"
      ]
     },
     "execution_count": 8,
     "metadata": {},
     "output_type": "execute_result"
    }
   ],
   "source": [
    "# Espacio para desarrollar el código siguiendo las instrucciones.\n",
    "\n",
    "#Regular\n",
    "def r_suma (num1, num2):\n",
    "    return num1 + num2\n",
    "\n",
    "#Lambda\n",
    "l_suma = lambda num1, num2 : num1 + num2\n",
    "\n",
    "#Resultados\n",
    "l_suma(1,2)\n",
    "print(r_suma(1,2))"
   ]
  },
  {
   "cell_type": "markdown",
   "id": "98938d2d",
   "metadata": {},
   "source": [
    "# Actividad: Usar la función map para duplicar el valor de cada uno de los elementos contenidos.\n",
    "\n",
    "## Instrucciones\n",
    "\n",
    "1. Describa brevemente el funcionamiento y las ventajas de usar la función map\n",
    "2. Escriba el código en el siguiente espacio."
   ]
  },
  {
   "cell_type": "code",
   "execution_count": 9,
   "id": "a35ef1b7",
   "metadata": {},
   "outputs": [
    {
     "name": "stdout",
     "output_type": "stream",
     "text": [
      "[2, 4, 6, 8, 10, 12, 14, 16, 18]\n"
     ]
    }
   ],
   "source": [
    "# Espacio para desarrollar el código.\n",
    "\n",
    "#Punto 1\n",
    "\"\"\"\n",
    "La función map() aplica una función a cada elemento de un iterable y devuelve un nuevo iterable con los resultados. Ventajas:\n",
    "\n",
    "Concisión: Código más corto y claro.\n",
    "Eficiencia: Funciona de manera eficiente.\n",
    "Legibilidad: Facilita la lectura del código.\n",
    "Flexibilidad: Funciona con funciones definidas por el usuario o funciones lambda.\n",
    "Generación bajo demanda: Devuelve un iterador, útil para grandes conjuntos de datos.\n",
    "\"\"\"\n",
    "\n",
    "#Punto 2\n",
    "numeros =[1,2,3,4,5,6,7,8,9]\n",
    "\n",
    "def duplicar (num):\n",
    "    return(num*2)\n",
    "\n",
    "duplicado =list( map(duplicar, numeros))\n",
    "\n",
    "print(duplicado)"
   ]
  }
 ],
 "metadata": {
  "kernelspec": {
   "display_name": "Python 3 (ipykernel)",
   "language": "python",
   "name": "python3"
  },
  "language_info": {
   "codemirror_mode": {
    "name": "ipython",
    "version": 3
   },
   "file_extension": ".py",
   "mimetype": "text/x-python",
   "name": "python",
   "nbconvert_exporter": "python",
   "pygments_lexer": "ipython3",
   "version": "3.9.12"
  }
 },
 "nbformat": 4,
 "nbformat_minor": 5
}
