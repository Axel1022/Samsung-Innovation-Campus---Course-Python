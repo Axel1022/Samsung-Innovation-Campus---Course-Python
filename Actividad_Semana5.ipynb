{
 "cells": [
  {
   "cell_type": "markdown",
   "id": "5ad8356f",
   "metadata": {},
   "source": [
    "# Actividades Capítulo 5.\n",
    "\n",
    "\n",
    "# Algoritmos de clasificación.\n",
    "\n",
    "## Resumen de actividades\n",
    "\n",
    "\n",
    "- **Unidad 27.** Ordenamiento de burbuja, (Bubble Sort) algoritmo de ordenamiento, selección e inserción\n",
    "- **Unidad 28.** Ordenar por selección, ordenamiento por inserción.\n",
    "- **Unidad 29.** Clasificación rápida\n"
   ]
  },
  {
   "cell_type": "markdown",
   "id": "8c5aa9c8",
   "metadata": {},
   "source": [
    "# Actividad: Ordenamiento de Burbuja\n",
    "\n",
    "\n",
    "## Instrucciones\n",
    "\n",
    "1. Explique brevemente y en forma clara cómo funciona el algoritmo de ordenamiento de burbuja.\n",
    "\n",
    "2. Desarrollo un función donde se use el ordenamiento de burbuja aplicada a una lista de valores enteros.\n",
    "\n"
   ]
  },
  {
   "cell_type": "code",
   "execution_count": 1,
   "id": "90cd2e33",
   "metadata": {},
   "outputs": [
    {
     "name": "stdout",
     "output_type": "stream",
     "text": [
      "[-985, -52, 0, 1, 2, 51, 100, 985]\n"
     ]
    }
   ],
   "source": [
    "# Espacio para desarrollar el código requerido, recuerde agregar algunos\n",
    "# comentarios breves sobre su funcionamiento.\n",
    "\n",
    "#1: Mis palabras: Su funcion es verificar si el elemento anterior es mayor al siguiente para asi saber si se deben cambiar de posición, de esta forma los elementos mas pesados (grandes) se van al final de la lista y los mas livianos al principio.\n",
    "\n",
    "list = [0,1,2,51,-52,100,-985,985]\n",
    "def Bubble_sort(list):\n",
    "    for i in range(len(list)-1): #Para que se repita el proceso dependiendo del tamaño de la lista de numeros -1\n",
    "        for j in range(len(list)-1-i): #Recorridos dentro de la lista. Se va restando J porque se supone que el ultimo elemento ya está ordenado.\n",
    "            if list[j] > list[j+1]: #Verificamos que el unmero anterior sea mayor que el primero, de ser así:\n",
    "                list[j],list[j+1]  = list[j+1], list[j] #Intercambiamos sus valores\n",
    "    return(list)\n",
    "print(Bubble_sort(list))\n"
   ]
  },
  {
   "cell_type": "markdown",
   "id": "a11871f3",
   "metadata": {},
   "source": [
    "# Actividad: Función Swap.\n",
    "\n",
    "1. Escriba una función que permita el intercambion de elementos en una lista.\n",
    "2. Los argumentos de esta función serán, la lista y los indices de los elementos que se desean intercambiar.\n",
    "3. En la siguiente celda desarrollo el código requerido, recuerde agregar comentarias breves que expliquen su funcionamiento.\n"
   ]
  },
  {
   "cell_type": "code",
   "execution_count": 2,
   "id": "1e7a5371",
   "metadata": {},
   "outputs": [
    {
     "name": "stdout",
     "output_type": "stream",
     "text": [
      "[2, 1, 3, 4, 5, 6, 7, 8, 9, 10, 11, 12, 13, 14, 150]\n"
     ]
    }
   ],
   "source": [
    "# Espacio para desarrollar la actividad, si tienes alguna duda o comentario adicional\n",
    "# lo puedes dejar planteado acá.\n",
    "list=[1,2,3,4,5,6,7,8,9 ,10,11,12,13,14,150]\n",
    "def swap(list, index1, index2):\n",
    "    if (index1 < len(list) and index2 < len(list)):\n",
    "        list[index1], list[index2] = list[index2], list[index1]\n",
    "    else:\n",
    "        print(\"Error al modificar lista: Indice fuera de rango.\")\n",
    "    return list\n",
    "print(swap(list,0,1))\n",
    "\n",
    "#Honestamente no se si era eso lo que pedia."
   ]
  },
  {
   "cell_type": "markdown",
   "id": "a207d974",
   "metadata": {},
   "source": [
    "\n",
    "# Actividad: \n",
    "\n",
    "1. Explique brevemente el funcionamiento del algoritmo Quick Sort.\n",
    "2. Desarrollo el código para implementar el algoritmo Quick Sort.\n",
    "3. Revise las unidad 29, sección 1.1"
   ]
  },
  {
   "cell_type": "code",
   "execution_count": 22,
   "id": "a4f925a4",
   "metadata": {},
   "outputs": [
    {
     "name": "stdout",
     "output_type": "stream",
     "text": [
      "[]\n"
     ]
    }
   ],
   "source": [
    "def quick_sort(lista):\n",
    "    if len(lista) <= 1:\n",
    "        return lista  # Devolver la lista si ya está ordenada o tiene solo un elemento\n",
    "\n",
    "    pivote = lista[len(lista) // 2]\n",
    "    izquierda = []\n",
    "    derecha = []\n",
    "\n",
    "    for elemento in lista:\n",
    "        if elemento < pivote:\n",
    "            izquierda.append(elemento)\n",
    "        elif elemento > pivote:\n",
    "            derecha.append(elemento)\n",
    "\n",
    "    return quick_sort(izquierda) + [pivote] * lista.count(pivote) + quick_sort(derecha)\n",
    "    #No me ponia los numeros repetidos y tuve que hacer esto:⬆️⬆️⬆️⬆️\n",
    "\n",
    "mi_lista = [5, 85, 100, 7, 2,2,7]\n",
    "print(quick_sort(mi_lista))\n"
   ]
  },
  {
   "cell_type": "markdown",
   "id": "26a6bb9e",
   "metadata": {},
   "source": [
    "# Actividad: Quick Sort usando un valor de pivote aleatorio.\n",
    "\n",
    "1. Explique brevemente el funcionamiento del algoritmo Quick Sort en la modaladidad de usar un valor de pivote aleatorio.\n",
    "2. Comente las ventajas de esta variación.\n",
    "3. Desarrollo el código necesarion para este algoritmo.\n",
    "4. Agregue comentarios sobre su funcionamiento.\n",
    "\n"
   ]
  },
  {
   "cell_type": "code",
   "execution_count": 2,
   "id": "6670eace",
   "metadata": {},
   "outputs": [
    {
     "name": "stdout",
     "output_type": "stream",
     "text": [
      "Pivote random:5\n",
      "Pivote random:0\n",
      "Pivote random:2\n",
      "Pivote random:7\n",
      "Pivote random:100\n",
      "[-150, 0, 2, 5, 7, 85, 100]\n"
     ]
    },
    {
     "ename": "",
     "evalue": "",
     "output_type": "error",
     "traceback": [
      "\u001b[1;31mEl kernel se bloqueó al ejecutar código en la celda actual o en una celda anterior. \n",
      "\u001b[1;31mRevise el código de las celdas para identificar una posible causa del error. \n",
      "\u001b[1;31mHaga clic <a href='https://aka.ms/vscodeJupyterKernelCrash'>aquí</a> para obtener más información. \n",
      "\u001b[1;31mVea Jupyter <a href='command:jupyter.viewOutput'>log</a> para obtener más detalles."
     ]
    }
   ],
   "source": [
    "#1: En este método, el pivote se selecciona al azar en lugar de utilizar un índice fijo, lo que evita situaciones donde el rendimiento puede degradarse.\n",
    "\n",
    "'''2: Mejora el rendimiento en casos especiales.\n",
    "Evita la degradación del rendimiento en listas preordenadas o con muchos elementos repetidos.\n",
    "Distribuye de manera más uniforme el tiempo de ejecución.'''\n",
    "\n",
    "#3\n",
    "import random\n",
    "def quick_sort(lista):\n",
    "    if len(lista) <= 1:\n",
    "        return lista  # Devolver la lista si ya está ordenada o tiene solo un elemento\n",
    "    pos = random.randint(0,len(lista)-1)\n",
    "    pivote = lista[pos]\n",
    "    izquierda = []\n",
    "    derecha = []\n",
    "    print(f\"Pivote random:{pivote}\") #Para ver los numeros random que salen\n",
    "\n",
    "#Lo mismo que el anterior (Copy and paste)\n",
    "    for elemento in lista:\n",
    "        if elemento < pivote:\n",
    "            izquierda.append(elemento)\n",
    "        elif elemento > pivote:\n",
    "            derecha.append(elemento)\n",
    "\n",
    "\n",
    "    izquierda = quick_sort(izquierda)\n",
    "\n",
    "    return quick_sort(izquierda) + [pivote] * lista.count(pivote) + quick_sort(derecha)\n",
    "    #No me ponia los numeros repetidos y tuve que hacer esto:⬆️⬆️⬆️⬆️\n",
    "\n",
    "mi_lista = [5, 85, 100, 7, 2,2,7,5, -150,0]\n",
    "print(quick_sort(mi_lista))\n"
   ]
  }
 ],
 "metadata": {
  "kernelspec": {
   "display_name": "Python 3 (ipykernel)",
   "language": "python",
   "name": "python3"
  },
  "language_info": {
   "codemirror_mode": {
    "name": "ipython",
    "version": 3
   },
   "file_extension": ".py",
   "mimetype": "text/x-python",
   "name": "python",
   "nbconvert_exporter": "python",
   "pygments_lexer": "ipython3",
   "version": "3.9.12"
  }
 },
 "nbformat": 4,
 "nbformat_minor": 5
}
