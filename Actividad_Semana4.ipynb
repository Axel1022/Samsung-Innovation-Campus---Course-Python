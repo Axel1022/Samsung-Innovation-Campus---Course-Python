{
 "cells": [
  {
   "cell_type": "markdown",
   "id": "5d671b98",
   "metadata": {},
   "source": [
    "# Actividades Capítulo 4 - Estructuras de Datos\n",
    "\n",
    "Resumen de la actividad.\n",
    "\n",
    "\n",
    "- **1. Pilas y Colas**\n",
    "  - Actividad 1.2 - Implementar una Cola\n",
    "\n",
    "\n",
    "- **2. Búsqueda Secuencial**\n",
    "  - Actividad 2.1 - Búsqueda en una Lista\n",
    "\n",
    "\n",
    "- **3. Búsqueda Binaria**\n",
    "  - Actividad 3.1 - Búsqueda Binaria\n",
    "\n",
    "\n",
    "- **4. Tablas Hash**\n",
    "  - Actividad 4.1 - Implementar una Tabla Hash"
   ]
  },
  {
   "cell_type": "markdown",
   "id": "33866775",
   "metadata": {},
   "source": [
    "# Actividad: Implementación de una Pila en Python\n",
    "\n",
    "En esta actividad, tendrás la oportunidad de aplicar tus conocimientos sobre estructuras de datos y programación en Python para implementar una pila (stack). Una pila es una estructura de datos que sigue el principio \"Last-In-First-Out\" (LIFO), lo que significa que el último elemento que se agrega es el primero en ser eliminado.\n",
    "\n",
    "## Resumen:\n",
    "\n",
    "- **stack** = [ ]  # Recordando que una pila es básicamente una lista.\n",
    "- **append**: Método utilizado para agregar un elemento a la lista.\n",
    "- **pop**: Método usado para eliminar elementos de la lista, sino se especifica el índice se elimina el último elemento y retorna la lista resultante."
   ]
  },
  {
   "cell_type": "code",
   "execution_count": null,
   "id": "fbb2dca1",
   "metadata": {},
   "outputs": [],
   "source": [
    "nombres_aleatorios = [\"Ana\", \"Carlos\", \"David\", \"Elena\", \"Fernando\", \"Gabriela\",\n",
    "                      \"Hugo\", \"Isabel\", \"Juan\", \"Luis\", \"Lucía\",\n",
    "                      \"Lorena\", \"Manuel\", \"María\", \"Miguel\", \"Natalia\",\n",
    "                      \"Nicolás\", \"Nora\", \"Óscar\", \"Olivia\", \"Pablo\", \"Paula\",\n",
    "                      \"Pedro\", \"Raquel\", \"Rafael\", \"Renata\", \"Roberto\", \"Rosario\",\n",
    "                      \"Sara\", \"Sergio\", \"Silvia\", \"Tomás\", \"Teresa\", \"Víctor\", \"Verónica\",\n",
    "                      \"Ximena\", \"Xavier\", \"Yolanda\", \"Yenny\", \"Zaira\", \"Zoe\", \"Zacarías\"]\n",
    "\n",
    "# Generar un código para revisar los nombres contenidos en la lista, y guardarlos en diferentes listas,\n",
    "# de acuerdo a la inicial del nombre, use los comandos usandos antenirmente y barra los elementos usando\n",
    "# el comando \"for nombre in nombres_aleatorios:\" al final del proceso la lista inicial debe quedar vacia."
   ]
  },
  {
   "cell_type": "code",
   "execution_count": 3,
   "id": "3f193c19",
   "metadata": {},
   "outputs": [
    {
     "name": "stdout",
     "output_type": "stream",
     "text": [
      "{'A': ['Ana'], 'C': ['Carlos'], 'D': ['David'], 'E': ['Elena'], 'F': ['Fernando'], 'G': ['Gabriela'], 'H': ['Hugo'], 'I': ['Isabel'], 'J': ['Juan'], 'L': ['Luis', 'Lucía', 'Lorena'], 'M': ['Manuel', 'María', 'Miguel'], 'N': ['Natalia', 'Nicolás', 'Nora'], 'Ó': ['Óscar'], 'O': ['Olivia'], 'P': ['Pablo', 'Paula', 'Pedro'], 'R': ['Raquel', 'Rafael', 'Renata', 'Roberto', 'Rosario'], 'S': ['Sara', 'Sergio', 'Silvia'], 'T': ['Tomás', 'Teresa'], 'V': ['Víctor', 'Verónica'], 'X': ['Ximena', 'Xavier'], 'Y': ['Yolanda', 'Yenny'], 'Z': ['Zaira', 'Zoe', 'Zacarías']}\n"
     ]
    },
    {
     "ename": "",
     "evalue": "",
     "output_type": "error",
     "traceback": [
      "\u001b[1;31mEl kernel se bloqueó al ejecutar código en la celda actual o en una celda anterior. \n",
      "\u001b[1;31mRevise el código de las celdas para identificar una posible causa del error. \n",
      "\u001b[1;31mHaga clic <a href='https://aka.ms/vscodeJupyterKernelCrash'>aquí</a> para obtener más información. \n",
      "\u001b[1;31mVea Jupyter <a href='command:jupyter.viewOutput'>log</a> para obtener más detalles."
     ]
    }
   ],
   "source": [
    "nombres_aleatorios = [\"Ana\", \"Carlos\", \"David\", \"Elena\", \"Fernando\", \"Gabriela\",\n",
    "                      \"Hugo\", \"Isabel\", \"Juan\", \"Luis\", \"Lucía\",\n",
    "                      \"Lorena\", \"Manuel\", \"María\", \"Miguel\", \"Natalia\",\n",
    "                      \"Nicolás\", \"Nora\", \"Óscar\", \"Olivia\", \"Pablo\", \"Paula\",\n",
    "                      \"Pedro\", \"Raquel\", \"Rafael\", \"Renata\", \"Roberto\", \"Rosario\",\n",
    "                      \"Sara\", \"Sergio\", \"Silvia\", \"Tomás\", \"Teresa\", \"Víctor\", \"Verónica\",\n",
    "                      \"Ximena\", \"Xavier\", \"Yolanda\", \"Yenny\", \"Zaira\", \"Zoe\", \"Zacarías\"]\n",
    "\n",
    "nombres_por_inicial = {}\n",
    "\n",
    "for nombre in nombres_aleatorios:\n",
    "    inicial = nombre[0]\n",
    "    if inicial in nombres_por_inicial:\n",
    "        nombres_por_inicial[inicial].append(nombre)\n",
    "    else:\n",
    "        nombres_por_inicial[inicial] = [nombre]\n",
    "\n",
    "print(nombres_por_inicial)\n"
   ]
  },
  {
   "cell_type": "markdown",
   "id": "490f04a8",
   "metadata": {},
   "source": [
    "# Actividad: Replique el código, mostrado en la presentación 36 correspondiente al capítulo 4.\n",
    "\n",
    "En este codódigo se muestra la creación de una clasa para crear una pila y hacer las actividades básicas correspondientes.\n",
    "\n",
    "- **__init__**: Creación de la pila.\n",
    "- **is_empty**: Verificación si la pila está vacia.\n",
    "- **push**: agregar elemento a la pila\n",
    "- **pop**:si la pila no está vacia eliminar el último de elemento.\n",
    "\n",
    "Use la notación mostrada en la presentacion 40, realice varias operaciones y comente brevemente los resultados (máximo 3 lineas), antes de pasar a la siguiente actividad asegurese de entender completamente la notación utilizada."
   ]
  },
  {
   "cell_type": "code",
   "execution_count": 17,
   "id": "ce744ce2",
   "metadata": {},
   "outputs": [],
   "source": [
    "class pila:\n",
    "    def __init__(self):\n",
    "        self.pila = []\n",
    "    def is_empty(self):\n",
    "        return True if len(self.pila) == 0 else False\n",
    "    def push(self, item):\n",
    "        self.pila.append(item)\n",
    "    def pop(self):\n",
    "        return None if self.is_empty() else self.pila.pop()"
   ]
  },
  {
   "cell_type": "markdown",
   "id": "5f2fe9e8",
   "metadata": {},
   "source": [
    "# Actividad: Búsqueda secuencial.\n",
    "\n",
    "Se tiene una lista de 10 ciudades organizadas en función de la densidad de población, escriba una función para retornar la posición ocupada.\n"
   ]
  },
  {
   "cell_type": "code",
   "execution_count": 39,
   "id": "dec8954f",
   "metadata": {},
   "outputs": [
    {
     "name": "stdout",
     "output_type": "stream",
     "text": [
      "posicion #10\n"
     ]
    }
   ],
   "source": [
    "ciudades = [\n",
    "    \"Daca, Bangladés\",\n",
    "    \"Karachi, Pakistán\",\n",
    "    \"Nueva Delhi, India\",\n",
    "    \"Manila, Filipinas\",\n",
    "    \"Seúl, Corea del Sur\",\n",
    "    \"Cantón, China\",\n",
    "    \"Taipéi, Taiwán\",\n",
    "    \"Chenaral, Chile\",\n",
    "    \"Shenzhen, China\",\n",
    "    \"Bombay, India\"\n",
    "]\n",
    "\n",
    "def obtener_posicion(ciudades, ciudad):\n",
    "    # Espaciós para desarrollar el código\n",
    "    posicion = ciudades.index(ciudad) + 1 #Le sumè 1 porque llevarlo al lenguaje de los simples mortales.\n",
    "    return posicion\n",
    "\n",
    "posicion_ocupada = obtener_posicion(ciudades,\"Bombay, India\")\n",
    "print(f\"Posicion #{posicion_ocupada}\")"
   ]
  },
  {
   "cell_type": "markdown",
   "id": "9fffd532",
   "metadata": {},
   "source": [
    "# Actividad: Búsqueda binaria.\n",
    "\n",
    "- Escriba al menos una ventaja de la busqueda binaria.\n",
    "- Replique el código mostrado en la presentación 192.\n",
    "- Explique brevemente el funcionamiento del código, maximo 3 lineas.\n",
    "- Ingrese un piso de ruptura del huevo y calcule cuantas veces se realiza la revisión para encontrar el piso seguro.(Se puede agrear algún contador dentro del código para verificar)\n"
   ]
  },
  {
   "cell_type": "code",
   "execution_count": 41,
   "id": "bdc866e2",
   "metadata": {},
   "outputs": [
    {
     "name": "stdout",
     "output_type": "stream",
     "text": [
      "El piso seguro es: 0\n",
      "Número de revisiones realizadas: 7\n"
     ]
    },
    {
     "data": {
      "text/plain": [
       "'\\nInicializamos las variables LOW y HIGH, luego la suma de ellas la asignamos a la variable mid.\\nVerificamos que la media es igual al numero buscado\\n'"
      ]
     },
     "execution_count": 41,
     "metadata": {},
     "output_type": "execute_result"
    }
   ],
   "source": [
    "# Ventaja:\n",
    "# La búsqueda binaria es muy eficiente, ya que reduce el número de comparaciones necesarias para encontrar un elemento en una lista ordenada. En el peor de los casos, tiene una complejidad temporal de O(log n), donde \"n\" es el tamaño de la lista.\n",
    "\n",
    "# Espacio para replicar el código.\n",
    "\n",
    "def do_experiment(floor, breaking):\n",
    "    return floor >= breaking\n",
    "\n",
    "def find_highest_safe_floor2(height, breaking):\n",
    "    low, high = 1, height\n",
    "    counter = 0  # contador para registrar el número de revisiones\n",
    "    while low < high:\n",
    "        mid = (low + high) // 2\n",
    "        counter += 1\n",
    "        if breaking:\n",
    "            high = mid\n",
    "        else:\n",
    "            low = mid + 1\n",
    "    return low - 1, counter  # Devuelve el piso seguro y el número de revisiones realizadas\n",
    "\n",
    "# Solicitar al usuario que ingrese el piso de ruptura del huevo\n",
    "breaking_floor = int(input(\"Ingrese el piso de ruptura del huevo: \"))\n",
    "\n",
    "# Calcular el piso seguro y el número de revisiones realizadas\n",
    "result = find_highest_safe_floor2(100, breaking_floor)\n",
    "if result is not None:\n",
    "    safe_floor, revisions = result\n",
    "    print(\"El piso seguro es:\", safe_floor)\n",
    "    print(\"Número de revisiones realizadas:\", revisions)\n",
    "else:\n",
    "    print(\"No se encontró un piso seguro.\")\n",
    "\n",
    "\n",
    "# Espacio para explicar funcionamiento.\n",
    "\n",
    "'''\n",
    "Utiliza un bucle para dividir el rango de pisos a la mitad hasta encontrar el piso seguro.\n",
    "Calcula el piso medio para verificar si el huevo se rompe en él.\n",
    "Devuelve el piso más alto seguro y el número de revisiones realizadas.\n",
    "'''"
   ]
  },
  {
   "cell_type": "markdown",
   "id": "eb266a1e",
   "metadata": {},
   "source": [
    "# Actividad: Definir una tabla Hash tipo diccionario.\n",
    "\n",
    "En la siguiente celda se muestrar como crear un diccionario, como agregar elementos, como eliminar elementos,\n",
    "como verificar si la key existe en el diccionario, basados en este código agregue otros elementos, comente los resultados, si tienes alguna duda también la puedes escribir. (Use máximo 3 líneas en la explicación)\n"
   ]
  },
  {
   "cell_type": "code",
   "execution_count": 48,
   "id": "f48163a5",
   "metadata": {},
   "outputs": [
    {
     "name": "stdout",
     "output_type": "stream",
     "text": [
      "Nombre: Juan\n",
      "Edad: 30\n",
      "Ciudad: Nueva York\n",
      "La clave 'ciudad' no está en el diccionario.\n",
      "Valores: \n",
      ">>> Juan\n",
      ">>> 31\n",
      "Llaves:\n",
      ">>> nombre\n",
      ">>> edad\n"
     ]
    }
   ],
   "source": [
    "# Crear un diccionario vacío\n",
    "mi_diccionario = {}\n",
    "\n",
    "# Agregar elementos al diccionario\n",
    "mi_diccionario[\"nombre\"] = \"Juan\"\n",
    "mi_diccionario[\"edad\"] = 30\n",
    "mi_diccionario[\"ciudad\"] = \"Nueva York\"\n",
    "\n",
    "# Acceder a los valores por clave\n",
    "print(\"Nombre:\", mi_diccionario[\"nombre\"])\n",
    "print(\"Edad:\", mi_diccionario[\"edad\"])\n",
    "print(\"Ciudad:\", mi_diccionario[\"ciudad\"])\n",
    "\n",
    "# Modificar un valor existente\n",
    "mi_diccionario[\"edad\"] = 31\n",
    "\n",
    "# Eliminar un elemento del diccionario\n",
    "del mi_diccionario[\"ciudad\"]\n",
    "\n",
    "# Verificar si una clave existe en el diccionario\n",
    "if \"ciudad\" in mi_diccionario:\n",
    "    print(\"La clave 'ciudad' está en el diccionario.\")\n",
    "else:\n",
    "    print(\"La clave 'ciudad' no está en el diccionario.\")\n",
    "\n",
    "#Otro elemento\n",
    "\n",
    "#Imprime los valores\n",
    "\n",
    "valores = mi_diccionario.values() #Optenemos los valores\n",
    "\n",
    "#Imprimimos los valores\n",
    "print(\"Valores: \")\n",
    "for valor in valores:\n",
    "    print(\">>>\",valor)\n",
    "\n",
    "#Imprime las claves\n",
    "\n",
    "keys = mi_diccionario.keys() #Optenemos los valores\n",
    "\n",
    "#Imprimimos los valores\n",
    "print(\"Llaves:\")\n",
    "for key in keys:\n",
    "    print(\">>>\",key)\n"
   ]
  }
 ],
 "metadata": {
  "kernelspec": {
   "display_name": "Python 3",
   "language": "python",
   "name": "python3"
  },
  "language_info": {
   "codemirror_mode": {
    "name": "ipython",
    "version": 3
   },
   "file_extension": ".py",
   "mimetype": "text/x-python",
   "name": "python",
   "nbconvert_exporter": "python",
   "pygments_lexer": "ipython3",
   "version": "3.9.12"
  }
 },
 "nbformat": 4,
 "nbformat_minor": 5
}
