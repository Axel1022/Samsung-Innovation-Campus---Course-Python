{
 "cells": [
  {
   "cell_type": "markdown",
   "id": "49909eb6",
   "metadata": {},
   "source": [
    "# Coding and Programming\n",
    "\n",
    "## Capítulo 6\n",
    "\n",
    "### Resolución de problemas con algoritmos\n",
    "\n",
    "- **Unidad 30.** Enfoque Greedy algoritmos voraces o ávidos.\n",
    "- **Unidad 31.** Divide y vencerás\n",
    "- **Unidad 32.** Programación dinámica\n",
    "- **Unidad 33.** Backtracking\n"
   ]
  },
  {
   "cell_type": "markdown",
   "id": "2e42031a",
   "metadata": {},
   "source": [
    "___"
   ]
  },
  {
   "cell_type": "markdown",
   "id": "780f0fff",
   "metadata": {},
   "source": [
    "## Q 30-01\n",
    "\n",
    "Este es el problema del intercambio de monedas.\n",
    "\n",
    "Tienes una moneda de 400 wones.\n",
    "\n",
    "Escriba el resultado de cómo el algoritmo `coin_change()` determina el cambio de la moneda de 800 wones.\n",
    "```\n",
    "coins  = [500, 400, 100, 50, 10]\n",
    "amount = int(input(\"Ingrese la cantidad: \"))\n",
    "changes= coin_change(coins, amount)\n",
    "print(changes, len(changes))\n",
    "\n",
    "Ingrese la cantidad: 800\n",
    "```"
   ]
  },
  {
   "cell_type": "markdown",
   "id": "8d0b8eb8",
   "metadata": {},
   "source": [
    "# Monedas utilizadas: [500, 100, 100, 100]\n",
    "# Cantidad total de monedas: 4"
   ]
  },
  {
   "cell_type": "markdown",
   "id": "ca15d3cf",
   "metadata": {},
   "source": [
    "___"
   ]
  },
  {
   "cell_type": "markdown",
   "id": "89395b47",
   "metadata": {},
   "source": [
    "## Q 31-01\n",
    "\n",
    "Tienes 8 monedas idénticas numeradas del 1 al 8. De estas, solo una moneda es más pesada que la otra.\n",
    "\n",
    "Suponiendo que puede pesar monedas con una balanza equilibrada, diseñe un algoritmo que encuentre la moneda más pesada.\n",
    "\n",
    "En este momento, ¿cuántas veces se debe usar al menos la balanza?"
   ]
  },
  {
   "cell_type": "code",
   "execution_count": 30,
   "id": "2bf1b6c1",
   "metadata": {},
   "outputs": [
    {
     "name": "stdout",
     "output_type": "stream",
     "text": [
      "La moneda más pesada es: 9\n",
      "Veces que se usó la balanza: 3\n"
     ]
    }
   ],
   "source": [
    "coins = [1,2,3,4,5,6,7,9]\n",
    "\n",
    "def fund(coins: list):\n",
    "    veces = 0  # Para saber las veces que se usa la balanza\n",
    "\n",
    "    def find_heavier(coins):\n",
    "        nonlocal veces\n",
    "        veces += 1\n",
    "\n",
    "        if len(coins) == 1:\n",
    "            return coins[0]\n",
    "        elif len(coins) == 2:\n",
    "            return coins[0] if coins[0] > coins[1] else coins[1]\n",
    "\n",
    "        #Divido los monedas en 2 grupos\n",
    "        mitad = len(coins) // 2\n",
    "        group1 = coins[:mitad]\n",
    "        group2 = coins[mitad:]\n",
    "\n",
    "        # Pesamos los dos grupos\n",
    "        sum_group1 = sum(group1)\n",
    "        sum_group2 = sum(group2)\n",
    "\n",
    "        if sum_group1 > sum_group2:\n",
    "            return find_heavier(group1)\n",
    "        elif sum_group1 < sum_group2:\n",
    "            return find_heavier(group2)\n",
    "        else:\n",
    "            return None\n",
    "\n",
    "    moneda_mas_pesada = find_heavier(coins)\n",
    "    return moneda_mas_pesada, veces\n",
    "\n",
    "# Ejemplo de uso\n",
    "moneda_mas_pesada, veces = fund(coins)\n",
    "print(\"La moneda más pesada es:\", moneda_mas_pesada)\n",
    "print(\"Veces que se usó la balanza:\", veces)\n"
   ]
  },
  {
   "cell_type": "markdown",
   "id": "9c37e736",
   "metadata": {},
   "source": [
    "___"
   ]
  },
  {
   "cell_type": "markdown",
   "id": "6f047403",
   "metadata": {},
   "source": [
    "## Q 31-02\n",
    "\n",
    "Hay nueve monedas idénticas numeradas del 1 al 9 en el problema anterior.\n",
    "\n",
    "Diseñe un algoritmo para encontrar una moneda pesada en este caso.\n",
    "\n",
    "En este momento, ¿cuántas veces se debe usar al menos la balanza?"
   ]
  },
  {
   "cell_type": "code",
   "execution_count": 31,
   "id": "d3939984",
   "metadata": {},
   "outputs": [
    {
     "name": "stdout",
     "output_type": "stream",
     "text": [
      "La moneda más pesada es: 9\n",
      "Veces que se usó la balanza: 4\n"
     ]
    }
   ],
   "source": [
    "# COPYPASTE\n",
    "\n",
    "coins = [1,2,3,4,5,6,7,9,8]\n",
    "\n",
    "def fund(coins: list):\n",
    "    veces = 0  # Para saber las veces que se usa la balanza\n",
    "\n",
    "    def find_heavier(coins):\n",
    "        nonlocal veces\n",
    "        veces += 1\n",
    "\n",
    "        if len(coins) == 1:\n",
    "            return coins[0]\n",
    "        elif len(coins) == 2:\n",
    "            return coins[0] if coins[0] > coins[1] else coins[1]\n",
    "\n",
    "        #Divido los monedas en 2 grupos\n",
    "        mitad = len(coins) // 2\n",
    "        group1 = coins[:mitad]\n",
    "        group2 = coins[mitad:]\n",
    "\n",
    "        # Pesamos los dos grupos\n",
    "        sum_group1 = sum(group1)\n",
    "        sum_group2 = sum(group2)\n",
    "\n",
    "        if sum_group1 > sum_group2:\n",
    "            return find_heavier(group1)\n",
    "        elif sum_group1 < sum_group2:\n",
    "            return find_heavier(group2)\n",
    "        else:\n",
    "            return None\n",
    "\n",
    "    moneda_mas_pesada = find_heavier(coins)\n",
    "    return moneda_mas_pesada, veces\n",
    "\n",
    "# Ejemplo de uso\n",
    "moneda_mas_pesada, veces = fund(coins)\n",
    "print(\"La moneda más pesada es:\", moneda_mas_pesada)\n",
    "print(\"Veces que se usó la balanza:\", veces)\n"
   ]
  },
  {
   "cell_type": "markdown",
   "id": "0453c475",
   "metadata": {},
   "source": [
    "___"
   ]
  },
  {
   "cell_type": "markdown",
   "id": "881569fc",
   "metadata": {},
   "source": [
    "## Q 32-01\n",
    "\n",
    "Analice el resultado de la ejecución del siguiente código y compárelo con el rendimiento de las funciones `fib1()`, `fib2()` y `fib3()`.\n",
    "```\n",
    "def fib4(n):\n",
    "    if n <= 1:\n",
    "        return n\n",
    "    else:\n",
    "        a,b = 0,1\n",
    "        for i in range(2, n + 1):\n",
    "            a,b = b,a+b\n",
    "        return b\n",
    "\n",
    "N = int(input(\"Ingrese un numero: \"))\n",
    "print(fib4(N))\n",
    "\n",
    "\n",
    "Ingrese un numero:\n",
    "```\n"
   ]
  },
  {
   "cell_type": "code",
   "execution_count": 11,
   "id": "f58e5987",
   "metadata": {},
   "outputs": [
    {
     "name": "stdout",
     "output_type": "stream",
     "text": [
      "5\n",
      "5\n",
      "5\n"
     ]
    },
    {
     "data": {
      "text/plain": [
       "'\\nfib1(n):\\n\\nFunción recursiva básica.\\nLenta y poco eficiente.\\nfib2(n):\\n\\nFunción memoizada con diccionario.\\nMás rápida y eficiente que fib1(n).\\nfib3(F, n):\\n\\nSimilar a fib2(n) con una pequeña optimización.\\nSimilar a fib2(n) en rendimiento.\\nfib4(n):\\n\\nAlgoritmo con bucles.\\nSimilar a fib2(n) y fib3(F, n) en rendimiento.\\n'"
      ]
     },
     "execution_count": 11,
     "metadata": {},
     "output_type": "execute_result"
    }
   ],
   "source": [
    "N = int(input(\"Ingrese un numero: \"))\n",
    "def fib1(n):\n",
    "    if n == 0 or n == 1:\n",
    "        return n\n",
    "    else:\n",
    "        return fib1(n-1) + fib1(n-2)\n",
    "print(fib1(N))\n",
    "\n",
    "#En esta funcion calcula la secuencia finonacci.\n",
    "#Si el num que pasamos por parametro es 0 o 1 devolvemos el num en cuestion. De no ser asi, se llama recursivamente el calculo de los dos numeros anteriores.\n",
    "\n",
    "N = int(input(\"Ingrese un numero: \"))\n",
    "F = {0:0,1:1}\n",
    "def fib2(n):\n",
    "    if n in F:\n",
    "        return(F[n])\n",
    "    else :\n",
    "        F[n] = fib2(n-1) + fib2(n-2)\n",
    "        return(F[n])\n",
    "print(fib1(N))\n",
    "\n",
    "'''\n",
    "Lo mismo pero este calcula la secuencia Fibonacci de forma eficiente almacenando valores previos en un diccionario.\n",
    "\n",
    "Esta forma evita recalcular valores ya conocidos.\n",
    "'''\n",
    "\n",
    "N = int(input(\"Ingrese un numero: \"))\n",
    "F = {0:0, 1:1, 2:1, 3:2}\n",
    "\n",
    "def fib3(F, n):\n",
    "  if n in F:\n",
    "    return F[n]\n",
    "  else:\n",
    "    F[n] = fib3(F, n-1) + fib3(F, n-2)\n",
    "    return F[n]\n",
    "\n",
    "\n",
    "N = int(input(\"Ingrese un numero: \"))\n",
    "def fib4(n):\n",
    "    if n <= 1:\n",
    "        return n\n",
    "    else:\n",
    "        a,b = 0,1\n",
    "        for i in range(2, n + 1):\n",
    "            a,b = b,a+b\n",
    "        return b\n",
    "print(fib4(N))\n",
    "\n",
    "\n",
    "'''\n",
    "fib1(n):\n",
    "\n",
    "Función recursiva básica.\n",
    "Lenta y poco eficiente.\n",
    "fib2(n):\n",
    "\n",
    "Función memoizada con diccionario.\n",
    "Más rápida y eficiente que fib1(n).\n",
    "fib3(F, n):\n",
    "\n",
    "Similar a fib2(n) con una pequeña optimización.\n",
    "Similar a fib2(n) en rendimiento.\n",
    "fib4(n):\n",
    "\n",
    "Algoritmo con bucles.\n",
    "Similar a fib2(n) y fib3(F, n) en rendimiento.\n",
    "'''\n"
   ]
  },
  {
   "cell_type": "markdown",
   "id": "60d998bd",
   "metadata": {},
   "source": [
    "___"
   ]
  },
  {
   "cell_type": "markdown",
   "id": "1087c522",
   "metadata": {},
   "source": [
    "## Q 32-02\n",
    "\n",
    "Analice el resultado de la ejecución del siguiente código y compárelo con el rendimiento de las funciones `bin1()` y `bin2()`.\n",
    "```\n",
    "def bin3(n,k):\n",
    "    B = [0] * (n + 1)\n",
    "    for i in range(n + 1):\n",
    "        for j in range(n, -1, -1):\n",
    "            if j==0 or j==i:\n",
    "                B[j] = 1\n",
    "            else:\n",
    "                B[j] = B[j] B[j-1]\n",
    "    return B[k]\n",
    "\n",
    "\n",
    "for i in range(10):\n",
    "    for j in range(i+1):\n",
    "        print(bin3(i,j),end=\" \")\n",
    "    print()\n",
    "```"
   ]
  },
  {
   "cell_type": "code",
   "execution_count": 13,
   "id": "f4ff6b6c",
   "metadata": {},
   "outputs": [
    {
     "name": "stdout",
     "output_type": "stream",
     "text": [
      "binomial (5, 2 is 10)\n",
      "binomial (5, 2 is 10)\n",
      "1 \n",
      "1 1 \n",
      "1 2 1 \n",
      "1 3 3 1 \n",
      "1 4 6 4 1 \n",
      "1 5 10 10 5 1 \n",
      "1 6 15 20 15 6 1 \n",
      "1 7 21 35 35 21 7 1 \n",
      "1 8 28 56 70 56 28 8 1 \n",
      "1 9 36 84 126 126 84 36 9 1 \n"
     ]
    }
   ],
   "source": [
    "\n",
    "n = int (input(\"Ingrese el valor de N: \"))\n",
    "K = int (input(\"Ingrese el valor de K: \"))\n",
    "\n",
    "def bin1(n,k):\n",
    "    if k == 0  or n ==k:\n",
    "        return 1\n",
    "    else:\n",
    "        return bin1(n-1, k-1) + bin1(n-1,k)\n",
    "print(f\"binomial ({n}, {K} is {bin1(n,K)})\")\n",
    "\n",
    "\n",
    "def bin2(n,k):\n",
    "    B = [[0]* (i + 1) for i in range(n+1)]\n",
    "    for i in range (n+1):\n",
    "        for j in range (n+1):\n",
    "            if j ==0 or j ==1 :\n",
    "                B[i][j] = 1\n",
    "            else:\n",
    "                B[i][j] = B [i-1] [j - 1] + B[i-1][j]\n",
    "        return B[n][k]\n",
    "\n",
    "print(f\"binomial ({n}, {K} is {bin1(n,K)})\")\n",
    "\n",
    "def bin3(n,k):\n",
    "    B = [0] * (n + 1)\n",
    "    for i in range(n + 1):\n",
    "        for j in range(n, -1, -1):\n",
    "            if j==0 or j==i:\n",
    "                B[j] = 1\n",
    "            else:\n",
    "                B[j] = B[j] + B[j-1]\n",
    "    return B[k]\n",
    "\n",
    "\n",
    "for i in range(10):\n",
    "    for j in range(i+1):\n",
    "        print(bin3(i,j),end=\" \")\n",
    "    print()\n",
    "\n",
    "\n",
    "''' \n",
    "bin1: Es una función recursiva que, si bien es simple de entender, puede ser muy lenta para valores grandes de n.\n",
    "bin3: Implementa un algoritmo de programación dinámica que itera sobre todos los valores de j. Es más eficiente que la recursividad, pero aún tiene una complejidad temporal de O(n * k).\n",
    "bin2: También utiliza programación dinámica, pero con una tabla 2D. Esto la hace más eficiente en espacio (O(n)) que bin3, pero la complejidad temporal sigue siendo O(n * k).\n",
    "'''"
   ]
  },
  {
   "cell_type": "markdown",
   "id": "a0df2e98",
   "metadata": {},
   "source": []
  },
  {
   "cell_type": "markdown",
   "id": "7cef2a44",
   "metadata": {},
   "source": [
    "___"
   ]
  },
  {
   "cell_type": "markdown",
   "id": "d36e67d4",
   "metadata": {},
   "source": [
    "## Q 33-01\n",
    "\n",
    "Si reemplaza cada letra con un número en la siguiente letra, el número correspondiente a las cinco palabras son todos cuadrados.\n",
    "\n",
    "Para cada palabra, la suma de cada dígito también es un número cuadrado.\n",
    "\n",
    "Encuentra el número representado por cada letra.\n",
    "\n",
    "**Código de referencia:**"
   ]
  },
  {
   "cell_type": "code",
   "execution_count": 2,
   "id": "13991ae0",
   "metadata": {},
   "outputs": [
    {
     "name": "stdout",
     "output_type": "stream",
     "text": [
      "A: 9\n",
      "TO: 81\n",
      "ALL: 900\n",
      "XMAS: 7396\n",
      "MERRY: 34225\n",
      "Tiempo transcurrido: 0.0010006427764892578 segundos\n"
     ]
    }
   ],
   "source": [
    "from math import sqrt, floor\n",
    "import time\n",
    "\n",
    "\n",
    "def is_square_digitsum(n):\n",
    "    S = 0  # Initialize S to 0 to store the sum of digits\n",
    "    while n > 0:\n",
    "        S += n % 10\n",
    "        n //= 10\n",
    "    if sqrt(S) == int(sqrt(S)):\n",
    "        return True\n",
    "    return False\n",
    "\n",
    "\n",
    "\n",
    "def find_all_squares():\n",
    "    sqrs = [[] for _ in range(5)]\n",
    "    for i in range(1, floor(sqrt(10 ** 5)) + 1):\n",
    "        n = i * i\n",
    "        if not is_square_digitsum(n):\n",
    "            continue\n",
    "        s = str(n)\n",
    "        if len(s) == 3 and s[1] != s[2]:\n",
    "            continue\n",
    "        if len(s) == 5 and s[2] != s[3]:\n",
    "            continue\n",
    "        if len(s) in [4, 5] and len(set(s)) != 4:\n",
    "            continue\n",
    "        sqrs[len(s) - 1].append(n)\n",
    "    return sqrs\n",
    "\n",
    "\n",
    "def promising(s, n, dic):\n",
    "    for i in range(len(s)):\n",
    "        digit = int(str(n)[i])\n",
    "        for key, value in dic.items():\n",
    "            if key == s[i] and value != digit:\n",
    "                return False\n",
    "            if value == digit and key != s[i]:\n",
    "                return False\n",
    "    return True\n",
    "\n",
    "\n",
    "def solve(words, dic, squares):\n",
    "    global solved\n",
    "    if len(words) == 0:\n",
    "        solved = dic\n",
    "    else:\n",
    "        s = words[0]\n",
    "        candidates = squares[len(s) - 1]\n",
    "        for n in candidates:\n",
    "            if promising(s, n, dic):\n",
    "                newdic = dic.copy()\n",
    "                for i in range(len(s)):\n",
    "                    newdic[s[i]] = int(str(n)[i])\n",
    "                solve(words[1:], newdic, squares)\n",
    "\n",
    "\n",
    "def main():\n",
    "    squares = find_all_squares()\n",
    "    words = [\"A\", \"TO\", \"ALL\", \"XMAS\", \"MERRY\"]\n",
    "    dic = {}\n",
    "    solve(words, dic, squares)\n",
    "    for word in words:\n",
    "        print(word, end=\": \")\n",
    "        for c in word:\n",
    "            print(solved[c], end=\"\")\n",
    "        print()\n",
    "\n",
    "start = time.time()\n",
    "solved = {}\n",
    "main()\n",
    "end = time.time()\n",
    "print(\"Tiempo transcurrido:\", end-start, \"segundos\")\n",
    "\n"
   ]
  },
  {
   "cell_type": "markdown",
   "id": "d31d23cb",
   "metadata": {},
   "source": [
    "___"
   ]
  },
  {
   "cell_type": "markdown",
   "id": "c815e543",
   "metadata": {},
   "source": [
    "# Fin"
   ]
  }
 ],
 "metadata": {
  "kernelspec": {
   "display_name": "Python 3 (ipykernel)",
   "language": "python",
   "name": "python3"
  },
  "language_info": {
   "codemirror_mode": {
    "name": "ipython",
    "version": 3
   },
   "file_extension": ".py",
   "mimetype": "text/x-python",
   "name": "python",
   "nbconvert_exporter": "python",
   "pygments_lexer": "ipython3",
   "version": "3.9.12"
  }
 },
 "nbformat": 4,
 "nbformat_minor": 5
}
