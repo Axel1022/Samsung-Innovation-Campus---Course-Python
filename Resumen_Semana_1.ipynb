{
 "cells": [
  {
   "cell_type": "markdown",
   "id": "8587dc52",
   "metadata": {},
   "source": [
    "# Ambiente Virtual en Python\n",
    "\n",
    "## ¿Qué es un Ambiente Virtual?\n",
    "\n",
    "Un ambiente virtual en Python es una herramienta que permite crear **entornos aislados** para proyectos específicos. Esto significa que puedes tener **diferentes versiones de paquetes y bibliotecas** para distintos proyectos sin que interfieran entre sí. Los ambientes virtuales son esenciales para **evitar conflictos de dependencias** y garantizar la consistencia en el desarrollo de software.\n",
    "\n",
    "\n",
    "### Crear Ambiente Virtual con `venv` (Python 3.x)\n",
    "\n",
    "1. Abre la terminal de Windows (cmd).\n",
    "\n",
    "2. Navega al directorio donde deseas crear el ambiente virtual.\n",
    "\n",
    "3. Ejecuta el siguiente comando:\n",
    "\n",
    "   ```bash\n",
    "   python3 -m venv nombre_del_ambiente\n",
    "   ```\n",
    "\n",
    "### Activacion del ambiente virtual.\n",
    "\n",
    ".\\nombre_del_ambiente\\Scripts\\activate\n",
    "\n",
    "\n",
    "### Desactivar el ambiente virtual.\n",
    "\n",
    "deactivate\n"
   ]
  },
  {
   "cell_type": "markdown",
   "id": "afe60c5a",
   "metadata": {},
   "source": [
    "## Print"
   ]
  },
  {
   "cell_type": "code",
   "execution_count": null,
   "id": "1cf86015",
   "metadata": {},
   "outputs": [],
   "source": [
    "print('hola Republica Dominica')"
   ]
  },
  {
   "cell_type": "code",
   "execution_count": null,
   "id": "d198d35e",
   "metadata": {
    "scrolled": true
   },
   "outputs": [],
   "source": [
    "print(2024)"
   ]
  },
  {
   "cell_type": "code",
   "execution_count": null,
   "id": "0d59d9be",
   "metadata": {},
   "outputs": [],
   "source": [
    "print(1.1)"
   ]
  },
  {
   "cell_type": "code",
   "execution_count": null,
   "id": "9f79e2b9",
   "metadata": {},
   "outputs": [],
   "source": [
    "# salto de linea '\\n' newline\n",
    "print('hola\\nRepublica Dominica')"
   ]
  },
  {
   "cell_type": "code",
   "execution_count": null,
   "id": "d1457f17",
   "metadata": {},
   "outputs": [],
   "source": [
    "print('''hola\n",
    "Republica Dominica\n",
    "\n",
    "Comillas triples permite\n",
    "escribir en multiples lineas\n",
    "''')"
   ]
  },
  {
   "cell_type": "code",
   "execution_count": null,
   "id": "50696d47",
   "metadata": {},
   "outputs": [],
   "source": [
    "print('Buenas','noches')"
   ]
  },
  {
   "cell_type": "code",
   "execution_count": null,
   "id": "ced415b7",
   "metadata": {},
   "outputs": [],
   "source": [
    "print('Buenas',10,5.5,0+5j)"
   ]
  },
  {
   "cell_type": "code",
   "execution_count": null,
   "id": "68a6bbe4",
   "metadata": {},
   "outputs": [],
   "source": [
    "'5' * 3"
   ]
  },
  {
   "cell_type": "code",
   "execution_count": null,
   "id": "291ef49d",
   "metadata": {},
   "outputs": [],
   "source": [
    "'5' + '3'"
   ]
  },
  {
   "cell_type": "code",
   "execution_count": null,
   "id": "49715136",
   "metadata": {},
   "outputs": [],
   "source": [
    "print(20+24)"
   ]
  },
  {
   "cell_type": "code",
   "execution_count": null,
   "id": "4adea1a1",
   "metadata": {},
   "outputs": [],
   "source": [
    "print('*'*55)\n",
    "print('hola mundo')\n",
    "print('*'*55)"
   ]
  },
  {
   "cell_type": "code",
   "execution_count": null,
   "id": "1f3a7cb2",
   "metadata": {},
   "outputs": [],
   "source": [
    "print('3' + 5 )\n",
    "\n",
    "###  Sobrescarga del operador +  ###\n",
    "#class mistring(str):\n",
    "#    def __add__(self, other):\n",
    "#        return self + str(other)"
   ]
  },
  {
   "cell_type": "code",
   "execution_count": null,
   "id": "94cdec15",
   "metadata": {},
   "outputs": [],
   "source": [
    "print('3' + str(5) )"
   ]
  },
  {
   "cell_type": "markdown",
   "id": "4802e82a",
   "metadata": {},
   "source": [
    "___"
   ]
  },
  {
   "cell_type": "code",
   "execution_count": null,
   "id": "3a669d47",
   "metadata": {},
   "outputs": [],
   "source": [
    "'hoLA mundo'.title()"
   ]
  },
  {
   "cell_type": "code",
   "execution_count": null,
   "id": "73dab292",
   "metadata": {},
   "outputs": [],
   "source": [
    "'hoLA mundo'.lower()"
   ]
  },
  {
   "cell_type": "code",
   "execution_count": null,
   "id": "50e526fb",
   "metadata": {},
   "outputs": [],
   "source": [
    "'hoLA mundo'.upper()"
   ]
  },
  {
   "cell_type": "code",
   "execution_count": null,
   "id": "a6bdbc53",
   "metadata": {},
   "outputs": [],
   "source": [
    "'hoLA mundo'.capitalize()"
   ]
  },
  {
   "cell_type": "markdown",
   "id": "47a74908",
   "metadata": {},
   "source": [
    "# Todo en Python es un Objeto -> (POO)"
   ]
  },
  {
   "cell_type": "code",
   "execution_count": null,
   "id": "fbc3d096",
   "metadata": {},
   "outputs": [],
   "source": [
    "class mi_primera_clase():# u\n",
    "    def mi_primer_metodo():\n",
    "        pass"
   ]
  },
  {
   "cell_type": "code",
   "execution_count": null,
   "id": "a675ef5f",
   "metadata": {},
   "outputs": [],
   "source": [
    "objeto1 = mi_primera_clase()"
   ]
  },
  {
   "cell_type": "code",
   "execution_count": null,
   "id": "b3856854",
   "metadata": {},
   "outputs": [],
   "source": [
    "5.5.conjugate()"
   ]
  },
  {
   "cell_type": "code",
   "execution_count": null,
   "id": "1049cc72",
   "metadata": {},
   "outputs": [],
   "source": [
    "(0+5.5j).conjugate()"
   ]
  },
  {
   "cell_type": "markdown",
   "id": "3861f5fc",
   "metadata": {},
   "source": [
    "___"
   ]
  },
  {
   "cell_type": "code",
   "execution_count": null,
   "id": "0770551b",
   "metadata": {},
   "outputs": [],
   "source": [
    "print('hola') # \\n por defecto finaliza con salto de linea\n",
    "print('hola')\n",
    "print('hola')"
   ]
  },
  {
   "cell_type": "code",
   "execution_count": null,
   "id": "2072ec3d",
   "metadata": {},
   "outputs": [],
   "source": [
    "print('hola', end=' ')\n",
    "print('hola', end=' ')\n",
    "print('hola', end='*'*5)"
   ]
  },
  {
   "cell_type": "code",
   "execution_count": null,
   "id": "a66b7d32",
   "metadata": {},
   "outputs": [],
   "source": [
    "print(1, '3', 5) # por defecto se separan con espacio\n",
    "print(1, 3, 5, 'hola', sep='*')"
   ]
  },
  {
   "cell_type": "code",
   "execution_count": null,
   "id": "daa4437a",
   "metadata": {},
   "outputs": [],
   "source": [
    "int('9')"
   ]
  },
  {
   "cell_type": "code",
   "execution_count": null,
   "id": "41e4f7ba",
   "metadata": {},
   "outputs": [],
   "source": [
    "int('9.9')"
   ]
  },
  {
   "cell_type": "code",
   "execution_count": null,
   "id": "b4c20274",
   "metadata": {},
   "outputs": [],
   "source": [
    "float('9.9')"
   ]
  },
  {
   "cell_type": "code",
   "execution_count": null,
   "id": "b1a51852",
   "metadata": {},
   "outputs": [],
   "source": [
    "try: # intentar\n",
    "    print( 1, int(9.9) )\n",
    "    print( 2, float('9.9') )\n",
    "    print( 3, int('9.9') ) # ValueError\n",
    "    print( 4 ) # no se ejecuta\n",
    "except: # exceptuando todos los errores\n",
    "    print(5, 'Ohh noooo!')"
   ]
  },
  {
   "cell_type": "markdown",
   "id": "eaa7cadf",
   "metadata": {},
   "source": [
    "### tarea\n",
    "#for :\n",
    "\n",
    "     *\n",
    "    ***\n",
    "   *****\n",
    "  *******"
   ]
  },
  {
   "attachments": {
    "complexity-2.png": {
     "image/png": "[encoded data removed]"
    }
   },
   "cell_type": "markdown",
   "id": "da9deb68",
   "metadata": {},
   "source": [
    "![complexity-2.png](attachment:complexity-2.png)"
   ]
  },
  {
   "attachments": {
    "complexity-sorting-2.png": {
     "image/png": "[encoded data removed]"
    }
   },
   "cell_type": "markdown",
   "id": "ac126684",
   "metadata": {},
   "source": [
    "![complexity-sorting-2.png](attachment:complexity-sorting-2.png)\n",
    "\n",
    "https://www.bigocheatsheet.com/"
   ]
  },
  {
   "cell_type": "code",
   "execution_count": null,
   "id": "0def2c17",
   "metadata": {},
   "outputs": [],
   "source": [
    "lista = [1, 3, 5, 7, 9, 11, 13, 15]\n",
    "n = len(lista) # length\n",
    "\n",
    "lista[n//2] == 6"
   ]
  },
  {
   "cell_type": "code",
   "execution_count": null,
   "id": "deabf0e4",
   "metadata": {},
   "outputs": [],
   "source": [
    "lista[0], lista[2]"
   ]
  },
  {
   "cell_type": "markdown",
   "id": "c37e0e04",
   "metadata": {},
   "source": [
    "(Markdown)\n",
    "### Junior\n",
    "\n",
    "**busqueda lineal = O(n)   –>  Mejor**\n",
    "\n",
    "busqueda binaria = O(n²) + O(lg(n))\n",
    "___\n",
    "\n",
    "Multiples busquedas (m)\n",
    "\n",
    "busqueda lineal = O(n*m)\n",
    "\n",
    "busqueda binaria = O(n²) + O(m*lg(n))\n",
    "\n",
    "A partir de un cierto **m** resulta mejor usar **busqueda binaria**."
   ]
  },
  {
   "cell_type": "markdown",
   "id": "b6954528",
   "metadata": {},
   "source": [
    "___\n",
    "\n",
    "## Entradas y variables\n",
    "\n",
    "- Los nombres de variables deben ser descriptivos\n",
    "- Las siguientes palabras están reservados\n",
    "\n",
    "**False None True and as assert**\n",
    "\n",
    "**break class continue def del**\n",
    "\n",
    "**elif else except finally for from**\n",
    "\n",
    "**global if import in is lambda**\n",
    "\n",
    "**nonlocal not or pass raise**\n",
    "\n",
    "**return try while with yield**"
   ]
  },
  {
   "cell_type": "code",
   "execution_count": null,
   "id": "b1150011",
   "metadata": {},
   "outputs": [],
   "source": [
    "numero = input('Ingrese un numero entero entre 1 y 100: ')\n",
    "type(numero)"
   ]
  },
  {
   "cell_type": "code",
   "execution_count": null,
   "id": "cc3322b8",
   "metadata": {},
   "outputs": [],
   "source": [
    "entrada = input('Ingrese un numero entre 1 y 100: ')\n",
    "### validar -> if numero.isdigit()\n",
    "\n",
    "numero = int(entrada)\n",
    "numero*3"
   ]
  },
  {
   "cell_type": "code",
   "execution_count": null,
   "id": "2f21af68",
   "metadata": {},
   "outputs": [],
   "source": [
    "# inicializar varibles\n",
    "pi = 3.141593\n",
    "\n",
    "# leemos datos del usuario\n",
    "radio = input('Ingrese el radio del circulo: ')\n",
    "radio = float(radio) # sobreescritura de variable\n",
    "\n",
    "# calculos\n",
    "perimetro = 2 * pi * radio\n",
    "area = pi * radio ** 2 # potencia **\n",
    "\n",
    "# resultados\n",
    "print('Area del circulo:', area)\n",
    "print('Perimetro del circulo:', perimetro)"
   ]
  },
  {
   "cell_type": "markdown",
   "id": "c29b18f9",
   "metadata": {},
   "source": [
    "entrada -> algoritmo -> salida\n",
    "\n",
    " radio  ->  calculos -> area,perimetro\n",
    " \n",
    " ## Declaración de función"
   ]
  },
  {
   "cell_type": "code",
   "execution_count": null,
   "id": "0af679ed",
   "metadata": {},
   "outputs": [],
   "source": [
    "# (snakecase funciones y variables)\n",
    "# definir una función\n",
    "def datos_circulo(radio): \n",
    "    perimetro = 2 * pi * radio\n",
    "    area = pi * radio ** 2 # potencia **\n",
    "    # resultados\n",
    "    print('Area del circulo:', area)\n",
    "    print('Perimetro del circulo:', perimetro)"
   ]
  },
  {
   "cell_type": "code",
   "execution_count": null,
   "id": "1518ed52",
   "metadata": {},
   "outputs": [],
   "source": [
    "# inicializar varibles\n",
    "pi = 3.141593\n",
    "\n",
    "# leemos datos del usuario\n",
    "radio = input('Ingrese el radio del circulo: ')\n",
    "radio = float(radio) # sobreescritura de variable\n",
    "\n",
    "# calculos y salida\n",
    "datos_circulo(radio)"
   ]
  },
  {
   "cell_type": "code",
   "execution_count": null,
   "id": "2977e40a",
   "metadata": {},
   "outputs": [],
   "source": [
    "# en Python2\n",
    "print('{0:.3f} {1:.1f} {0:.2f} {0:.2f} {0:.2f} {1:.2f}'.format(area, perimetro))"
   ]
  },
  {
   "cell_type": "code",
   "execution_count": null,
   "id": "14b1dd5b",
   "metadata": {},
   "outputs": [],
   "source": [
    "print(f'Area del circulo: {area}')\n",
    "print(f'Perimetro del circulo: {perimetro}')"
   ]
  },
  {
   "cell_type": "code",
   "execution_count": null,
   "id": "e7cc5a47",
   "metadata": {
    "scrolled": true
   },
   "outputs": [],
   "source": [
    "print('Area del circulo: ' + str(area) ) # no auto cast\n",
    "print('Perimetro del circulo: ' + perimetro) # no auto cast"
   ]
  },
  {
   "cell_type": "markdown",
   "id": "3016ad62",
   "metadata": {},
   "source": [
    "## Operadores aritméticos y operadores de asignación"
   ]
  },
  {
   "cell_type": "code",
   "execution_count": null,
   "id": "bb398ace",
   "metadata": {},
   "outputs": [],
   "source": [
    "print(3 - 1)\n",
    "5 + 8\n",
    "5 * 9"
   ]
  },
  {
   "cell_type": "code",
   "execution_count": null,
   "id": "4c1313dd",
   "metadata": {},
   "outputs": [],
   "source": [
    "# división flotante\n",
    "9 / 5"
   ]
  },
  {
   "cell_type": "code",
   "execution_count": null,
   "id": "520d86fe",
   "metadata": {},
   "outputs": [],
   "source": [
    "# división entera\n",
    "9 // 5"
   ]
  },
  {
   "cell_type": "code",
   "execution_count": null,
   "id": "04268133",
   "metadata": {},
   "outputs": [],
   "source": [
    "# operador módulo devuelve el resto de la división\n",
    "9 % 5"
   ]
  },
  {
   "cell_type": "code",
   "execution_count": null,
   "id": "8e31eb04",
   "metadata": {},
   "outputs": [],
   "source": [
    "'Buenas noches, estimados!'.split() # por defecto se pica por los espacios"
   ]
  },
  {
   "cell_type": "code",
   "execution_count": null,
   "id": "e74dc513",
   "metadata": {
    "scrolled": true
   },
   "outputs": [],
   "source": [
    "'Buenas noches, estimados!'.split(',')"
   ]
  },
  {
   "cell_type": "code",
   "execution_count": null,
   "id": "bdce787b",
   "metadata": {},
   "outputs": [],
   "source": [
    "(3+4j)*(5+2j)"
   ]
  },
  {
   "cell_type": "code",
   "execution_count": null,
   "id": "86c77167",
   "metadata": {},
   "outputs": [],
   "source": [
    "(3+4j)/(5+2j)"
   ]
  },
  {
   "cell_type": "code",
   "execution_count": null,
   "id": "ec0c56b0",
   "metadata": {},
   "outputs": [],
   "source": [
    "n = 1 # asignación"
   ]
  },
  {
   "cell_type": "code",
   "execution_count": null,
   "id": "de537dd5",
   "metadata": {},
   "outputs": [],
   "source": [
    "n = n + 3\n",
    "n += 3\n",
    "n"
   ]
  },
  {
   "cell_type": "code",
   "execution_count": null,
   "id": "75477faa",
   "metadata": {},
   "outputs": [],
   "source": [
    "n = n - 2\n",
    "n -= 2\n",
    "n"
   ]
  },
  {
   "cell_type": "code",
   "execution_count": null,
   "id": "a523cf06",
   "metadata": {},
   "outputs": [],
   "source": [
    "n = n * 3\n",
    "n *= 3\n",
    "n"
   ]
  },
  {
   "cell_type": "code",
   "execution_count": null,
   "id": "885d09c4",
   "metadata": {},
   "outputs": [],
   "source": [
    "n = n // 3\n",
    "n //= 3\n",
    "n"
   ]
  },
  {
   "cell_type": "code",
   "execution_count": null,
   "id": "149cc4bf",
   "metadata": {},
   "outputs": [],
   "source": [
    "n = n ** 2\n",
    "n **= 2\n",
    "n"
   ]
  },
  {
   "cell_type": "code",
   "execution_count": null,
   "id": "697b7d6e",
   "metadata": {},
   "outputs": [],
   "source": [
    "n = n / 3\n",
    "n /= 3\n",
    "n"
   ]
  },
  {
   "cell_type": "code",
   "execution_count": null,
   "id": "79095cf3",
   "metadata": {},
   "outputs": [],
   "source": [
    "n %= 6\n",
    "n"
   ]
  },
  {
   "cell_type": "code",
   "execution_count": null,
   "id": "f6f2e9af",
   "metadata": {},
   "outputs": [],
   "source": [
    "3 + 5.0"
   ]
  },
  {
   "cell_type": "markdown",
   "id": "89e240f8",
   "metadata": {},
   "source": [
    "## Tipos de datos"
   ]
  },
  {
   "cell_type": "code",
   "execution_count": null,
   "id": "26b0988d",
   "metadata": {},
   "outputs": [],
   "source": [
    "# booleano\n",
    "type(False)\n",
    "type(True)"
   ]
  },
  {
   "cell_type": "code",
   "execution_count": null,
   "id": "8103910c",
   "metadata": {},
   "outputs": [],
   "source": [
    "# int (entero)\n",
    "45\n",
    "type(90)"
   ]
  },
  {
   "cell_type": "code",
   "execution_count": null,
   "id": "8fd4c826",
   "metadata": {},
   "outputs": [],
   "source": [
    "# string (Cadena de caráteres)\n",
    "\"I'm \"\n",
    "'I\\'m '\n",
    "'\"buenos\" días'\n",
    "type('')"
   ]
  },
  {
   "cell_type": "code",
   "execution_count": null,
   "id": "2f4b6a78",
   "metadata": {},
   "outputs": [],
   "source": [
    "'''\n",
    "cadenas de caracteres\n",
    "con multiples lineas\n",
    "'''"
   ]
  },
  {
   "cell_type": "code",
   "execution_count": null,
   "id": "22a98e5d",
   "metadata": {},
   "outputs": [],
   "source": [
    "\"\"\"\n",
    "cadenas de caracteres\n",
    "con multiples lineas\n",
    "\"\"\""
   ]
  },
  {
   "cell_type": "code",
   "execution_count": null,
   "id": "1d9daa6a",
   "metadata": {},
   "outputs": [],
   "source": [
    "'I\\'m '"
   ]
  },
  {
   "cell_type": "code",
   "execution_count": null,
   "id": "302ddc14",
   "metadata": {},
   "outputs": [],
   "source": [
    "\"\\\"buenos\\\" díás\""
   ]
  },
  {
   "cell_type": "code",
   "execution_count": null,
   "id": "7440418e",
   "metadata": {},
   "outputs": [],
   "source": [
    "# lista (array en otros lenguajes)\n",
    "# coleccion de objectos heterogeneos ordenados (mutable)\n",
    "[1, 3, 5, 7, 9, '11', objeto1]\n",
    "# numpy C interfaz en Python\n",
    "type([])"
   ]
  },
  {
   "cell_type": "code",
   "execution_count": null,
   "id": "81b11d19",
   "metadata": {},
   "outputs": [],
   "source": [
    "# tupla\n",
    "# coleccion de objectos heterogeneos ordenados (immutable)\n",
    "(1, 3, 5, 7, 9, '11', objeto1)\n",
    "type(())"
   ]
  },
  {
   "cell_type": "code",
   "execution_count": null,
   "id": "780411f3",
   "metadata": {
    "scrolled": true
   },
   "outputs": [],
   "source": [
    "# dictionarios\n",
    "# coleccion de pares clave:valor desordenados (mutable)\n",
    "# la clave permite recuperar el valor\n",
    "# para cada clave se asocia un único valor\n",
    "dict1 = { 1:'Pedro', 1:'Alejandra', 3:'Barbara', 2:'Cesar', '4':'David', 5:'Eric' }\n",
    "type({})"
   ]
  },
  {
   "cell_type": "code",
   "execution_count": null,
   "id": "c6704264",
   "metadata": {},
   "outputs": [],
   "source": [
    "dict1[1]"
   ]
  },
  {
   "cell_type": "code",
   "execution_count": null,
   "id": "e57bfe41",
   "metadata": {},
   "outputs": [],
   "source": [
    "dict1"
   ]
  },
  {
   "cell_type": "code",
   "execution_count": null,
   "id": "09b7c1e1",
   "metadata": {},
   "outputs": [],
   "source": [
    "dict1 = { '1':'Pedro', 1:'Alejandra', 3:'Barbara', 2:'Cesar', '4':'David', 5:'Eric' }"
   ]
  },
  {
   "cell_type": "code",
   "execution_count": null,
   "id": "f7385f2f",
   "metadata": {},
   "outputs": [],
   "source": []
  },
  {
   "cell_type": "code",
   "execution_count": null,
   "id": "f3a6858f",
   "metadata": {},
   "outputs": [],
   "source": [
    "# comparando si son iguales\n",
    "1 == 1, 1 == '1', type(1) == type('1'), type(1) == type(2)"
   ]
  },
  {
   "cell_type": "code",
   "execution_count": null,
   "id": "9c90c56e",
   "metadata": {},
   "outputs": [],
   "source": [
    "# immutables aconsejados como claves de diccionarios:\n",
    "# enteros tuplas string"
   ]
  },
  {
   "cell_type": "code",
   "execution_count": null,
   "id": "332bf11c",
   "metadata": {},
   "outputs": [],
   "source": [
    "# nulo\n",
    "None"
   ]
  },
  {
   "cell_type": "code",
   "execution_count": null,
   "id": "9e60ae21",
   "metadata": {
    "scrolled": true
   },
   "outputs": [],
   "source": [
    "mensaje = \"HOLA MUNDO!\"\n",
    "print(type(mensaje)) # str\n",
    "\n",
    "edad = 25\n",
    "print(type(edad)) # int\n",
    "\n",
    "altura = 1.8\n",
    "print(type(altura)) # float\n",
    "\n",
    "tupla_1 = ('MARIA', 'MARCOS','MANUEL', 'DANIEL')\n",
    "print(type(tupla_1)) # tuple\n",
    "\n",
    "lista_1 = ['MARIA', 'MARCOS','MANUEL', 'DANIEL']\n",
    "print(type(lista_1)) # list\n",
    "\n",
    "dict_1 = {'clave1':189, 'clave2':289, 'clave3':324}\n",
    "print(type(dict_1)) # dict\n",
    "dict_1['clave2']\n",
    "\n",
    "conjunto = { 2, 3, 4, 3, 2 }\n",
    "print(type(conjunto)) # set"
   ]
  },
  {
   "cell_type": "markdown",
   "id": "f1b3cfb8",
   "metadata": {},
   "source": [
    "## Orden de precedencia de operadores"
   ]
  },
  {
   "attachments": {
    "precedencia-operadores-3.png": {
     "image/png": "[encoded data removed]"
    }
   },
   "cell_type": "markdown",
   "id": "c052b754",
   "metadata": {},
   "source": [
    "![precedencia-operadores-3.png](attachment:precedencia-operadores-3.png)"
   ]
  },
  {
   "cell_type": "markdown",
   "id": "6baecd1b",
   "metadata": {},
   "source": [
    "## Operaciones lógicas y de comparación\n",
    "- and or not\n",
    "- ==  !=  >  <  >=  <=\n",
    "\n",
    "comparar si son iguales **==**\n",
    "\n",
    "comparar si son diferente **!=**"
   ]
  },
  {
   "cell_type": "markdown",
   "id": "904df5c4",
   "metadata": {},
   "source": [
    "### Año bisiesto\n",
    "- Si el año es divisible por 4, es bisiesto.\n",
    "- Aunque el número de años se divida por 4, **no** debe dividirse por 100.\n",
    "- El año en el que el número de años es divisible por 400 es incondicionalmente bisiesto."
   ]
  },
  {
   "cell_type": "code",
   "execution_count": null,
   "id": "582765a5",
   "metadata": {},
   "outputs": [],
   "source": [
    "año = int(input(\"Indique el año: \"))\n",
    "bisiesto = (año % 4 == 0 and año % 100 != 0) or (año % 400 == 0)\n",
    "print('¿es bisiesto?', bisiesto)"
   ]
  },
  {
   "cell_type": "code",
   "execution_count": null,
   "id": "49937917",
   "metadata": {},
   "outputs": [],
   "source": [
    "(año % 4 == 0 and año % 100 ¡= 0) or año % 400 == 0"
   ]
  },
  {
   "cell_type": "code",
   "execution_count": null,
   "id": "2c3c24fa",
   "metadata": {},
   "outputs": [],
   "source": [
    "3 not in [3, 4, 5]"
   ]
  },
  {
   "cell_type": "code",
   "execution_count": null,
   "id": "fff96823",
   "metadata": {},
   "outputs": [],
   "source": [
    "not True"
   ]
  },
  {
   "cell_type": "code",
   "execution_count": null,
   "id": "a509ac31",
   "metadata": {},
   "outputs": [],
   "source": [
    "not False"
   ]
  },
  {
   "cell_type": "code",
   "execution_count": null,
   "id": "37df8ae2",
   "metadata": {},
   "outputs": [],
   "source": [
    "100 > 200"
   ]
  },
  {
   "cell_type": "code",
   "execution_count": null,
   "id": "a3e55d30",
   "metadata": {},
   "outputs": [],
   "source": [
    "100 < 200"
   ]
  },
  {
   "cell_type": "code",
   "execution_count": null,
   "id": "208722ab",
   "metadata": {},
   "outputs": [],
   "source": [
    "100 <= 200, 100 >= 200"
   ]
  },
  {
   "cell_type": "markdown",
   "id": "be60c2d0",
   "metadata": {},
   "source": [
    "## Condicionales y toma de decisión\n",
    "- if else elif"
   ]
  },
  {
   "cell_type": "code",
   "execution_count": null,
   "id": "b1b85f47",
   "metadata": {},
   "outputs": [],
   "source": [
    "edad = int(input(\"Indique su edad: \"))\n",
    "if edad >= 18:\n",
    "    print('Eres mayor de edad')\n",
    "else: # encaso que no cumpla la condición\n",
    "    print('Eres menor de edad')"
   ]
  },
  {
   "cell_type": "code",
   "execution_count": null,
   "id": "71780a09",
   "metadata": {},
   "outputs": [],
   "source": [
    "numero = int(input(\"Introduzca un número: \"))\n",
    "if numero % 2 == 0:\n",
    "    print('Es numero es par')\n",
    "else:\n",
    "    print('Es numero es impar')"
   ]
  },
  {
   "cell_type": "code",
   "execution_count": null,
   "id": "a8078475",
   "metadata": {},
   "outputs": [],
   "source": [
    "9 // 5"
   ]
  },
  {
   "cell_type": "code",
   "execution_count": null,
   "id": "ab71d35c",
   "metadata": {},
   "outputs": [],
   "source": [
    "9 % 2, 9 % 3, 9 % 5"
   ]
  },
  {
   "cell_type": "code",
   "execution_count": null,
   "id": "225cb016",
   "metadata": {},
   "outputs": [],
   "source": [
    "nota = 90\n",
    "\n",
    "if nota >= 90:\n",
    "    print('A')\n",
    "    \"esto está dentro de la 1era condición (A)\"\n",
    "elif nota >= 80:\n",
    "    print('B')\n",
    "    \"esto está dentro de la 2da condición (B)\"\n",
    "    \"esto está dentro de la 2da condición (B)\"\n",
    "    \"esto está dentro de la 2da condición (B)\"\n",
    "elif nota >= 70:\n",
    "    print('C')\n",
    "elif nota >= 60:\n",
    "    print('D')\n",
    "elif nota >= 50:\n",
    "    print('E')\n",
    "else: # nota < 50\n",
    "    print('F')"
   ]
  },
  {
   "cell_type": "code",
   "execution_count": null,
   "id": "10e1dd18",
   "metadata": {},
   "outputs": [],
   "source": []
  },
  {
   "cell_type": "code",
   "execution_count": null,
   "id": "8f0e1eea",
   "metadata": {},
   "outputs": [],
   "source": []
  },
  {
   "cell_type": "code",
   "execution_count": null,
   "id": "ebe7d7b9",
   "metadata": {},
   "outputs": [],
   "source": []
  },
  {
   "cell_type": "markdown",
   "id": "729c48fd",
   "metadata": {},
   "source": [
    "## Bucles\n",
    "- while\n",
    "- for"
   ]
  },
  {
   "cell_type": "code",
   "execution_count": null,
   "id": "0684d275",
   "metadata": {},
   "outputs": [],
   "source": [
    "# multiples asignaciones\n",
    "a, b, c = 4, 3, 2\n",
    "\n",
    "print(c, a, b)"
   ]
  },
  {
   "cell_type": "markdown",
   "id": "b50664e2",
   "metadata": {},
   "source": [
    "### Evitar bucles infinitos"
   ]
  },
  {
   "cell_type": "code",
   "execution_count": null,
   "id": "b16a0ade",
   "metadata": {},
   "outputs": [],
   "source": [
    "semaforo, seg = 'rojo', 0\n",
    "while semaforo == 'rojo': # mientras se cumpla la condición\n",
    "    seg += 1              # se ejecuta el código dentro del while\n",
    "    if seg > 5:\n",
    "        # mecanisco dentro del while que cambie la condición\n",
    "        semaforo = 'verde' #typo -> error de tipeo\n",
    "    print(seg, semaforo)"
   ]
  },
  {
   "cell_type": "markdown",
   "id": "95dfec20",
   "metadata": {},
   "source": [
    "### importar bibliotecas\n",
    "\n",
    "pip install nombre_biblioteca"
   ]
  },
  {
   "cell_type": "code",
   "execution_count": null,
   "id": "956e50d0",
   "metadata": {},
   "outputs": [],
   "source": [
    "import random # numeros aleatorios"
   ]
  },
  {
   "cell_type": "code",
   "execution_count": null,
   "id": "b8cd9dcb",
   "metadata": {},
   "outputs": [],
   "source": [
    "random.randint(1,100), random.randint(1,100), random.randint(1,100)"
   ]
  },
  {
   "cell_type": "code",
   "execution_count": null,
   "id": "8cb08c37",
   "metadata": {},
   "outputs": [],
   "source": [
    "r = random.randint(10,100)\n",
    "# el while se usa cuando el numero que se\n",
    "# debe repetir una tarea es indeterminado\n",
    "while r < 90:\n",
    "    print(r)\n",
    "    r = random.randint(10,100)\n",
    "r"
   ]
  },
  {
   "cell_type": "code",
   "execution_count": null,
   "id": "23412372",
   "metadata": {},
   "outputs": [],
   "source": [
    "r, n = 1, 2\n",
    "while r:\n",
    "    print(r)\n",
    "    r = random.randrange(n)\n",
    "r"
   ]
  },
  {
   "cell_type": "code",
   "execution_count": null,
   "id": "da00b022",
   "metadata": {},
   "outputs": [],
   "source": [
    "cara = 0\n",
    "cruz = 0\n",
    "random.seed(3)\n",
    "for x in range(9000):\n",
    "    if random.randrange(2):\n",
    "        cara += 1\n",
    "    else:\n",
    "        cruz += 1\n",
    "print(cara, cruz)"
   ]
  },
  {
   "cell_type": "code",
   "execution_count": null,
   "id": "d100b901",
   "metadata": {},
   "outputs": [],
   "source": [
    "lista = ['a','c','l','m']\n",
    "#random.seed(3) # pseudo-aleatorios\n",
    "random.choice(lista)"
   ]
  },
  {
   "cell_type": "code",
   "execution_count": null,
   "id": "e1c512b1",
   "metadata": {},
   "outputs": [],
   "source": [
    "if False:\n",
    "    print(0, 'falso')\n",
    "if 3:\n",
    "    print(3, 'verdaredo')"
   ]
  },
  {
   "cell_type": "markdown",
   "id": "ace622bc",
   "metadata": {},
   "source": [
    "### Valores falsy\n",
    "\n",
    "- False\n",
    "- None\n",
    "- 0 cero entero\n",
    "- 0.0 cero flotante\n",
    "- (0+0j) origen complejo\n",
    "- \"\" cadena vacia\n",
    "- () tupla vacia\n",
    "- [] lista vacia\n",
    "- {} diccionario vacio\n",
    "- conjunto vacio"
   ]
  },
  {
   "cell_type": "markdown",
   "id": "5b4cb699",
   "metadata": {},
   "source": [
    "## range"
   ]
  },
  {
   "cell_type": "code",
   "execution_count": null,
   "id": "4c0eee55",
   "metadata": {},
   "outputs": [],
   "source": [
    "(1, 2, 3, 4, 5)"
   ]
  },
  {
   "cell_type": "code",
   "execution_count": null,
   "id": "fda1aa71",
   "metadata": {},
   "outputs": [],
   "source": [
    "list(range(5))"
   ]
  },
  {
   "cell_type": "code",
   "execution_count": null,
   "id": "41a3a1e8",
   "metadata": {},
   "outputs": [],
   "source": [
    "tuple(range(1, 5+1))"
   ]
  },
  {
   "cell_type": "code",
   "execution_count": null,
   "id": "e6750b1d",
   "metadata": {},
   "outputs": [],
   "source": [
    "tuple(range(1, 6))"
   ]
  },
  {
   "cell_type": "code",
   "execution_count": null,
   "id": "ae2b37ea",
   "metadata": {},
   "outputs": [],
   "source": [
    "list(range(1, 10, 2))"
   ]
  },
  {
   "cell_type": "code",
   "execution_count": null,
   "id": "7a377a8c",
   "metadata": {},
   "outputs": [],
   "source": [
    "list(range(0, 10, 2))"
   ]
  },
  {
   "cell_type": "code",
   "execution_count": null,
   "id": "26021c86",
   "metadata": {},
   "outputs": [],
   "source": [
    "list(range(1, 15, 3))"
   ]
  },
  {
   "cell_type": "code",
   "execution_count": null,
   "id": "affefd9f",
   "metadata": {},
   "outputs": [],
   "source": [
    "list(range(1, 17, 4))"
   ]
  },
  {
   "cell_type": "code",
   "execution_count": null,
   "id": "38afcaf2",
   "metadata": {},
   "outputs": [],
   "source": [
    "list(range(1, 17, 5))"
   ]
  },
  {
   "cell_type": "markdown",
   "id": "03174db1",
   "metadata": {},
   "source": [
    "### reversa"
   ]
  },
  {
   "cell_type": "code",
   "execution_count": null,
   "id": "e488bf1d",
   "metadata": {},
   "outputs": [],
   "source": [
    "list(range(9,0,-1))"
   ]
  },
  {
   "cell_type": "code",
   "execution_count": null,
   "id": "fa053910",
   "metadata": {},
   "outputs": [],
   "source": [
    "lista = list(range(1,10))\n",
    "lista.reverse()\n",
    "lista"
   ]
  },
  {
   "cell_type": "markdown",
   "id": "4233a407",
   "metadata": {},
   "source": [
    "### Iterar (objetos iterables)\n",
    "strings, listas, tuplas, diccionarios, conjuntos"
   ]
  },
  {
   "cell_type": "code",
   "execution_count": null,
   "id": "e84dbf27",
   "metadata": {},
   "outputs": [],
   "source": [
    "'Buenas noches, estimados!'[4]"
   ]
  },
  {
   "cell_type": "code",
   "execution_count": null,
   "id": "c881c765",
   "metadata": {},
   "outputs": [],
   "source": [
    "lista = [ 2, 5, 3, 7, 9, 1]\n",
    "lista[1]\n",
    "cadena = 'Buenas noches, estimados!'\n",
    "cadena[4]\n",
    "\n",
    "for char in 'Buenas noches, estimados!':\n",
    "    print(char)"
   ]
  },
  {
   "cell_type": "code",
   "execution_count": null,
   "id": "423d26d9",
   "metadata": {},
   "outputs": [],
   "source": [
    "for i in (1, 2, 3, 4, 5):\n",
    "    print(i)"
   ]
  },
  {
   "cell_type": "code",
   "execution_count": null,
   "id": "b04e4dce",
   "metadata": {},
   "outputs": [],
   "source": [
    "for i in range(1, 6):\n",
    "    print(i)"
   ]
  },
  {
   "cell_type": "code",
   "execution_count": null,
   "id": "31ee3bc6",
   "metadata": {},
   "outputs": [],
   "source": [
    "dict_1 = {'clave1':189, 'clave2':289, 'clave3':289}\n",
    "for k in dict_1:\n",
    "    print(k, dict_1[k]) # key clave"
   ]
  },
  {
   "cell_type": "code",
   "execution_count": null,
   "id": "a34b37b4",
   "metadata": {},
   "outputs": [],
   "source": [
    "for k,v in dict_1.items(): # clave, valor\n",
    "    print(k,v)"
   ]
  },
  {
   "cell_type": "code",
   "execution_count": null,
   "id": "5c35947d",
   "metadata": {},
   "outputs": [],
   "source": [
    "dict_1.items()"
   ]
  },
  {
   "cell_type": "markdown",
   "id": "b484742f",
   "metadata": {},
   "source": [
    "### Ejercicio:\n",
    "contar los nombre que comienzan con: c, a, l, m"
   ]
  },
  {
   "cell_type": "code",
   "execution_count": null,
   "id": "54e1d415",
   "metadata": {},
   "outputs": [],
   "source": [
    "nombres = [\"Ana\", \"Juan\", \"María\", \"Carlos\", \"Laura\", \"Pedro\", \"Lucía\", \"David\", \"Elena\",\n",
    "           \"Alejandro\", \"Sofía\", \"Miguel\", \"Luisa\", \"Javier\", \"Carmen\", \"Daniel\", \"Raquel\",\n",
    "           \"Hugo\", \"Patricia\", \"Diego\", \"Lorena\", \"Jorge\", \"Isabel\", \"Francisco\", \"Marta\",\n",
    "           \"Roberto\", \"Alicia\", \"Fernando\", \"Natalia\"]"
   ]
  },
  {
   "cell_type": "code",
   "execution_count": null,
   "id": "dc774bb3",
   "metadata": {},
   "outputs": [],
   "source": []
  }
 ],
 "metadata": {
  "kernelspec": {
   "display_name": "Python 3 (ipykernel)",
   "language": "python",
   "name": "python3"
  },
  "language_info": {
   "codemirror_mode": {
    "name": "ipython",
    "version": 3
   },
   "file_extension": ".py",
   "mimetype": "text/x-python",
   "name": "python",
   "nbconvert_exporter": "python",
   "pygments_lexer": "ipython3",
   "version": "3.10.12"
  }
 },
 "nbformat": 4,
 "nbformat_minor": 5
}
